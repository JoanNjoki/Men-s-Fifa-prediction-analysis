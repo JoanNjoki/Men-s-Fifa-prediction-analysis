{
  "nbformat": 4,
  "nbformat_minor": 0,
  "metadata": {
    "colab": {
      "name": "Moringa_Data_Science_CORE_W6_Independent_Project_2021_05_Joan_Mwangi_Python_Notebook.ipynb",
      "provenance": [],
      "collapsed_sections": [
        "J4wfHZwQrs-t",
        "zSGyg6kWsBUl",
        "6XC_g-zKxe-r",
        "vTbdjSrhVIiT",
        "lQ2G4ZPDVOXE",
        "xrmHVMVsVS--",
        "HPQviDmNtta8",
        "qjFHK1CKty7o",
        "HSsicSdvt4Zs"
      ],
      "include_colab_link": true
    },
    "kernelspec": {
      "name": "python3",
      "display_name": "Python 3"
    }
  },
  "cells": [
    {
      "cell_type": "markdown",
      "metadata": {
        "id": "view-in-github",
        "colab_type": "text"
      },
      "source": [
        "<a href=\"https://colab.research.google.com/github/JoanNjoki/Men-s-Fifa-prediction-analysis/blob/main/Moringa_Data_Science_CORE_W6_Independent_Project_2021_05_Joan_Mwangi_Python_Notebook.ipynb\" target=\"_parent\"><img src=\"https://colab.research.google.com/assets/colab-badge.svg\" alt=\"Open In Colab\"/></a>"
      ]
    },
    {
      "cell_type": "markdown",
      "metadata": {
        "id": "xMxtPsqcTsSH"
      },
      "source": [
        "# MEN'S FIFA WORLD CUP DATA ANALYSIS\n"
      ]
    },
    {
      "cell_type": "markdown",
      "metadata": {
        "id": "XecOwPNorl2W"
      },
      "source": [
        "### a) The Question"
      ]
    },
    {
      "cell_type": "markdown",
      "metadata": {
        "id": "8l3-hBO6bODP"
      },
      "source": [
        "In this analysis, my task is \n",
        "* to make a prediction of the game between the home away team and home team \n",
        "* to determine if the game was friendly or not"
      ]
    },
    {
      "cell_type": "markdown",
      "metadata": {
        "id": "J4wfHZwQrs-t"
      },
      "source": [
        "### b) Metric for Success\n",
        "Using two approaches the poynomial and logistic approach, I will be able to rank the teams based on the goals scored and if it was a friendly match or not."
      ]
    },
    {
      "cell_type": "markdown",
      "metadata": {
        "id": "a9BPYqunry97"
      },
      "source": [
        "### c) Context "
      ]
    },
    {
      "cell_type": "markdown",
      "metadata": {
        "id": "Whvt8ihNTI9y"
      },
      "source": [
        "Understanding the ranking process for fifa world cups and making predictions based on the goals scored"
      ]
    },
    {
      "cell_type": "markdown",
      "metadata": {
        "id": "7KMRBJ7zr9HD"
      },
      "source": [
        "### d) Recording the Experimental Design"
      ]
    },
    {
      "cell_type": "markdown",
      "metadata": {
        "id": "BvCxmnBRTeTk"
      },
      "source": [
        ">The steps to be followed are:\n",
        "\n",
        " * Exploratory Data Analysis\n",
        " * Carry out any feature engineering\n",
        " * Checking for multicollinearity\n",
        " * Building the model\n",
        " * Cross-validating the model\n",
        " * Computing Root Mean Squared of Errors"
      ]
    },
    {
      "cell_type": "markdown",
      "metadata": {
        "id": "zSGyg6kWsBUl"
      },
      "source": [
        "### e) Data Relevance"
      ]
    },
    {
      "cell_type": "markdown",
      "metadata": {
        "id": "dM8Mj_LA2RkW"
      },
      "source": [
        "The features within this dataset: the home team, away team, if the ground was neutral or not, the home rank and away rank are some of the features which will help in predicting the home scores, away scores and tournament type(Win,loss or draw)"
      ]
    },
    {
      "cell_type": "markdown",
      "metadata": {
        "id": "iUNbvIvnT7ep"
      },
      "source": [
        "## 2. Reading the Data"
      ]
    },
    {
      "cell_type": "code",
      "metadata": {
        "id": "-RNQBuQI0Kv8"
      },
      "source": [
        "#Importing libaries\n",
        "import pandas as pd\n",
        "import numpy as np\n",
        "import matplotlib.pyplot as plt\n",
        "%matplotlib inline\n",
        "from sklearn.linear_model import LogisticRegression\n",
        "import scipy as sp\n",
        "import math\n",
        "import seaborn as sns"
      ],
      "execution_count": 1,
      "outputs": []
    },
    {
      "cell_type": "code",
      "metadata": {
        "id": "XJn2KjW-WMlG"
      },
      "source": [
        "ranking =pd.read_csv('/content/fifa_ranking.csv')\n",
        "results = pd.read_csv('/content/results.csv')"
      ],
      "execution_count": 2,
      "outputs": []
    },
    {
      "cell_type": "markdown",
      "metadata": {
        "id": "OI3P3YnHUEBk"
      },
      "source": [
        "# 3. Checking the Data"
      ]
    },
    {
      "cell_type": "markdown",
      "metadata": {
        "id": "bzvB1AKi14Z0"
      },
      "source": [
        "##Fifa ranking dataset"
      ]
    },
    {
      "cell_type": "code",
      "metadata": {
        "id": "YjSVNwgptHxY",
        "colab": {
          "base_uri": "https://localhost:8080/"
        },
        "outputId": "c0486080-7dfb-49b5-8f7d-68c7c66287d6"
      },
      "source": [
        "#Determining the number of records in the fifa ranking\n",
        "ranking.shape"
      ],
      "execution_count": 5,
      "outputs": [
        {
          "output_type": "execute_result",
          "data": {
            "text/plain": [
              "(57793, 16)"
            ]
          },
          "metadata": {
            "tags": []
          },
          "execution_count": 5
        }
      ]
    },
    {
      "cell_type": "markdown",
      "metadata": {
        "id": "hYuAVDhr1yTU"
      },
      "source": [
        "There are 57793 records, and 16 columns within the ranking dataset"
      ]
    },
    {
      "cell_type": "code",
      "metadata": {
        "colab": {
          "base_uri": "https://localhost:8080/",
          "height": 305
        },
        "id": "hyHRNdtLCLq0",
        "outputId": "d0e799c8-16a3-4c61-ca7f-5d17a735008b"
      },
      "source": [
        "#previewing the first five rows\n",
        "ranking.head()"
      ],
      "execution_count": 3,
      "outputs": [
        {
          "output_type": "execute_result",
          "data": {
            "text/html": [
              "<div>\n",
              "<style scoped>\n",
              "    .dataframe tbody tr th:only-of-type {\n",
              "        vertical-align: middle;\n",
              "    }\n",
              "\n",
              "    .dataframe tbody tr th {\n",
              "        vertical-align: top;\n",
              "    }\n",
              "\n",
              "    .dataframe thead th {\n",
              "        text-align: right;\n",
              "    }\n",
              "</style>\n",
              "<table border=\"1\" class=\"dataframe\">\n",
              "  <thead>\n",
              "    <tr style=\"text-align: right;\">\n",
              "      <th></th>\n",
              "      <th>rank</th>\n",
              "      <th>country_full</th>\n",
              "      <th>country_abrv</th>\n",
              "      <th>total_points</th>\n",
              "      <th>previous_points</th>\n",
              "      <th>rank_change</th>\n",
              "      <th>cur_year_avg</th>\n",
              "      <th>cur_year_avg_weighted</th>\n",
              "      <th>last_year_avg</th>\n",
              "      <th>last_year_avg_weighted</th>\n",
              "      <th>two_year_ago_avg</th>\n",
              "      <th>two_year_ago_weighted</th>\n",
              "      <th>three_year_ago_avg</th>\n",
              "      <th>three_year_ago_weighted</th>\n",
              "      <th>confederation</th>\n",
              "      <th>rank_date</th>\n",
              "    </tr>\n",
              "  </thead>\n",
              "  <tbody>\n",
              "    <tr>\n",
              "      <th>0</th>\n",
              "      <td>1</td>\n",
              "      <td>Germany</td>\n",
              "      <td>GER</td>\n",
              "      <td>0.0</td>\n",
              "      <td>57</td>\n",
              "      <td>0</td>\n",
              "      <td>0.0</td>\n",
              "      <td>0.0</td>\n",
              "      <td>0.0</td>\n",
              "      <td>0.0</td>\n",
              "      <td>0.0</td>\n",
              "      <td>0.0</td>\n",
              "      <td>0.0</td>\n",
              "      <td>0.0</td>\n",
              "      <td>UEFA</td>\n",
              "      <td>1993-08-08</td>\n",
              "    </tr>\n",
              "    <tr>\n",
              "      <th>1</th>\n",
              "      <td>2</td>\n",
              "      <td>Italy</td>\n",
              "      <td>ITA</td>\n",
              "      <td>0.0</td>\n",
              "      <td>57</td>\n",
              "      <td>0</td>\n",
              "      <td>0.0</td>\n",
              "      <td>0.0</td>\n",
              "      <td>0.0</td>\n",
              "      <td>0.0</td>\n",
              "      <td>0.0</td>\n",
              "      <td>0.0</td>\n",
              "      <td>0.0</td>\n",
              "      <td>0.0</td>\n",
              "      <td>UEFA</td>\n",
              "      <td>1993-08-08</td>\n",
              "    </tr>\n",
              "    <tr>\n",
              "      <th>2</th>\n",
              "      <td>3</td>\n",
              "      <td>Switzerland</td>\n",
              "      <td>SUI</td>\n",
              "      <td>0.0</td>\n",
              "      <td>50</td>\n",
              "      <td>9</td>\n",
              "      <td>0.0</td>\n",
              "      <td>0.0</td>\n",
              "      <td>0.0</td>\n",
              "      <td>0.0</td>\n",
              "      <td>0.0</td>\n",
              "      <td>0.0</td>\n",
              "      <td>0.0</td>\n",
              "      <td>0.0</td>\n",
              "      <td>UEFA</td>\n",
              "      <td>1993-08-08</td>\n",
              "    </tr>\n",
              "    <tr>\n",
              "      <th>3</th>\n",
              "      <td>4</td>\n",
              "      <td>Sweden</td>\n",
              "      <td>SWE</td>\n",
              "      <td>0.0</td>\n",
              "      <td>55</td>\n",
              "      <td>0</td>\n",
              "      <td>0.0</td>\n",
              "      <td>0.0</td>\n",
              "      <td>0.0</td>\n",
              "      <td>0.0</td>\n",
              "      <td>0.0</td>\n",
              "      <td>0.0</td>\n",
              "      <td>0.0</td>\n",
              "      <td>0.0</td>\n",
              "      <td>UEFA</td>\n",
              "      <td>1993-08-08</td>\n",
              "    </tr>\n",
              "    <tr>\n",
              "      <th>4</th>\n",
              "      <td>5</td>\n",
              "      <td>Argentina</td>\n",
              "      <td>ARG</td>\n",
              "      <td>0.0</td>\n",
              "      <td>51</td>\n",
              "      <td>5</td>\n",
              "      <td>0.0</td>\n",
              "      <td>0.0</td>\n",
              "      <td>0.0</td>\n",
              "      <td>0.0</td>\n",
              "      <td>0.0</td>\n",
              "      <td>0.0</td>\n",
              "      <td>0.0</td>\n",
              "      <td>0.0</td>\n",
              "      <td>CONMEBOL</td>\n",
              "      <td>1993-08-08</td>\n",
              "    </tr>\n",
              "  </tbody>\n",
              "</table>\n",
              "</div>"
            ],
            "text/plain": [
              "   rank country_full  ... confederation   rank_date\n",
              "0     1      Germany  ...          UEFA  1993-08-08\n",
              "1     2        Italy  ...          UEFA  1993-08-08\n",
              "2     3  Switzerland  ...          UEFA  1993-08-08\n",
              "3     4       Sweden  ...          UEFA  1993-08-08\n",
              "4     5    Argentina  ...      CONMEBOL  1993-08-08\n",
              "\n",
              "[5 rows x 16 columns]"
            ]
          },
          "metadata": {
            "tags": []
          },
          "execution_count": 3
        }
      ]
    },
    {
      "cell_type": "code",
      "metadata": {
        "colab": {
          "base_uri": "https://localhost:8080/",
          "height": 285
        },
        "id": "RO5iTYrYCR18",
        "outputId": "8b1d4502-62c8-4586-ffef-2c04bb0d621b"
      },
      "source": [
        "#previewing the last five rows\n",
        "results.tail()"
      ],
      "execution_count": 4,
      "outputs": [
        {
          "output_type": "execute_result",
          "data": {
            "text/html": [
              "<div>\n",
              "<style scoped>\n",
              "    .dataframe tbody tr th:only-of-type {\n",
              "        vertical-align: middle;\n",
              "    }\n",
              "\n",
              "    .dataframe tbody tr th {\n",
              "        vertical-align: top;\n",
              "    }\n",
              "\n",
              "    .dataframe thead th {\n",
              "        text-align: right;\n",
              "    }\n",
              "</style>\n",
              "<table border=\"1\" class=\"dataframe\">\n",
              "  <thead>\n",
              "    <tr style=\"text-align: right;\">\n",
              "      <th></th>\n",
              "      <th>date</th>\n",
              "      <th>home_team</th>\n",
              "      <th>away_team</th>\n",
              "      <th>home_score</th>\n",
              "      <th>away_score</th>\n",
              "      <th>tournament</th>\n",
              "      <th>city</th>\n",
              "      <th>country</th>\n",
              "      <th>neutral</th>\n",
              "    </tr>\n",
              "  </thead>\n",
              "  <tbody>\n",
              "    <tr>\n",
              "      <th>40834</th>\n",
              "      <td>2019-07-18</td>\n",
              "      <td>American Samoa</td>\n",
              "      <td>Tahiti</td>\n",
              "      <td>8</td>\n",
              "      <td>1</td>\n",
              "      <td>Pacific Games</td>\n",
              "      <td>Apia</td>\n",
              "      <td>Samoa</td>\n",
              "      <td>True</td>\n",
              "    </tr>\n",
              "    <tr>\n",
              "      <th>40835</th>\n",
              "      <td>2019-07-18</td>\n",
              "      <td>Fiji</td>\n",
              "      <td>Solomon Islands</td>\n",
              "      <td>4</td>\n",
              "      <td>4</td>\n",
              "      <td>Pacific Games</td>\n",
              "      <td>Apia</td>\n",
              "      <td>Samoa</td>\n",
              "      <td>True</td>\n",
              "    </tr>\n",
              "    <tr>\n",
              "      <th>40836</th>\n",
              "      <td>2019-07-19</td>\n",
              "      <td>Senegal</td>\n",
              "      <td>Algeria</td>\n",
              "      <td>0</td>\n",
              "      <td>1</td>\n",
              "      <td>African Cup of Nations</td>\n",
              "      <td>Cairo</td>\n",
              "      <td>Egypt</td>\n",
              "      <td>True</td>\n",
              "    </tr>\n",
              "    <tr>\n",
              "      <th>40837</th>\n",
              "      <td>2019-07-19</td>\n",
              "      <td>Tajikistan</td>\n",
              "      <td>North Korea</td>\n",
              "      <td>0</td>\n",
              "      <td>1</td>\n",
              "      <td>Intercontinental Cup</td>\n",
              "      <td>Ahmedabad</td>\n",
              "      <td>India</td>\n",
              "      <td>True</td>\n",
              "    </tr>\n",
              "    <tr>\n",
              "      <th>40838</th>\n",
              "      <td>2019-07-20</td>\n",
              "      <td>Papua New Guinea</td>\n",
              "      <td>Fiji</td>\n",
              "      <td>1</td>\n",
              "      <td>1</td>\n",
              "      <td>Pacific Games</td>\n",
              "      <td>Apia</td>\n",
              "      <td>Samoa</td>\n",
              "      <td>True</td>\n",
              "    </tr>\n",
              "  </tbody>\n",
              "</table>\n",
              "</div>"
            ],
            "text/plain": [
              "             date         home_team  ... country  neutral\n",
              "40834  2019-07-18    American Samoa  ...   Samoa     True\n",
              "40835  2019-07-18              Fiji  ...   Samoa     True\n",
              "40836  2019-07-19           Senegal  ...   Egypt     True\n",
              "40837  2019-07-19        Tajikistan  ...   India     True\n",
              "40838  2019-07-20  Papua New Guinea  ...   Samoa     True\n",
              "\n",
              "[5 rows x 9 columns]"
            ]
          },
          "metadata": {
            "tags": []
          },
          "execution_count": 4
        }
      ]
    },
    {
      "cell_type": "code",
      "metadata": {
        "colab": {
          "base_uri": "https://localhost:8080/"
        },
        "id": "z-iV2HHACV5C",
        "outputId": "8397cd99-60f5-41d9-826a-8f60895aa2d1"
      },
      "source": [
        "results.info()"
      ],
      "execution_count": 5,
      "outputs": [
        {
          "output_type": "stream",
          "text": [
            "<class 'pandas.core.frame.DataFrame'>\n",
            "RangeIndex: 40839 entries, 0 to 40838\n",
            "Data columns (total 9 columns):\n",
            " #   Column      Non-Null Count  Dtype \n",
            "---  ------      --------------  ----- \n",
            " 0   date        40839 non-null  object\n",
            " 1   home_team   40839 non-null  object\n",
            " 2   away_team   40839 non-null  object\n",
            " 3   home_score  40839 non-null  int64 \n",
            " 4   away_score  40839 non-null  int64 \n",
            " 5   tournament  40839 non-null  object\n",
            " 6   city        40839 non-null  object\n",
            " 7   country     40839 non-null  object\n",
            " 8   neutral     40839 non-null  bool  \n",
            "dtypes: bool(1), int64(2), object(6)\n",
            "memory usage: 2.5+ MB\n"
          ],
          "name": "stdout"
        }
      ]
    },
    {
      "cell_type": "markdown",
      "metadata": {
        "id": "DsSq2rE62kxE"
      },
      "source": [
        "* There are no null values\n",
        "* Rank date data type should be datetime and object"
      ]
    },
    {
      "cell_type": "markdown",
      "metadata": {
        "id": "LIZrOnCM18Qn"
      },
      "source": [
        "##Fifa results dataset"
      ]
    },
    {
      "cell_type": "code",
      "metadata": {
        "colab": {
          "base_uri": "https://localhost:8080/"
        },
        "id": "EqqaxIPo2A6M",
        "outputId": "1534c0f3-ce28-4f5e-fe13-b48e81fddd60"
      },
      "source": [
        "results.shape"
      ],
      "execution_count": 6,
      "outputs": [
        {
          "output_type": "execute_result",
          "data": {
            "text/plain": [
              "(40839, 9)"
            ]
          },
          "metadata": {
            "tags": []
          },
          "execution_count": 6
        }
      ]
    },
    {
      "cell_type": "markdown",
      "metadata": {
        "id": "KOTKBDq22DKk"
      },
      "source": [
        "40839 records and 9 features"
      ]
    },
    {
      "cell_type": "code",
      "metadata": {
        "id": "xHhTw5eKWr0n",
        "colab": {
          "base_uri": "https://localhost:8080/",
          "height": 198
        },
        "outputId": "796961a5-1f01-44f0-bd7a-f4653549d922"
      },
      "source": [
        "# Previewing the first five rows \n",
        "results.head()"
      ],
      "execution_count": 7,
      "outputs": [
        {
          "output_type": "execute_result",
          "data": {
            "text/html": [
              "<div>\n",
              "<style scoped>\n",
              "    .dataframe tbody tr th:only-of-type {\n",
              "        vertical-align: middle;\n",
              "    }\n",
              "\n",
              "    .dataframe tbody tr th {\n",
              "        vertical-align: top;\n",
              "    }\n",
              "\n",
              "    .dataframe thead th {\n",
              "        text-align: right;\n",
              "    }\n",
              "</style>\n",
              "<table border=\"1\" class=\"dataframe\">\n",
              "  <thead>\n",
              "    <tr style=\"text-align: right;\">\n",
              "      <th></th>\n",
              "      <th>date</th>\n",
              "      <th>home_team</th>\n",
              "      <th>away_team</th>\n",
              "      <th>home_score</th>\n",
              "      <th>away_score</th>\n",
              "      <th>tournament</th>\n",
              "      <th>city</th>\n",
              "      <th>country</th>\n",
              "      <th>neutral</th>\n",
              "    </tr>\n",
              "  </thead>\n",
              "  <tbody>\n",
              "    <tr>\n",
              "      <th>0</th>\n",
              "      <td>1872-11-30</td>\n",
              "      <td>Scotland</td>\n",
              "      <td>England</td>\n",
              "      <td>0</td>\n",
              "      <td>0</td>\n",
              "      <td>Friendly</td>\n",
              "      <td>Glasgow</td>\n",
              "      <td>Scotland</td>\n",
              "      <td>False</td>\n",
              "    </tr>\n",
              "    <tr>\n",
              "      <th>1</th>\n",
              "      <td>1873-03-08</td>\n",
              "      <td>England</td>\n",
              "      <td>Scotland</td>\n",
              "      <td>4</td>\n",
              "      <td>2</td>\n",
              "      <td>Friendly</td>\n",
              "      <td>London</td>\n",
              "      <td>England</td>\n",
              "      <td>False</td>\n",
              "    </tr>\n",
              "    <tr>\n",
              "      <th>2</th>\n",
              "      <td>1874-03-07</td>\n",
              "      <td>Scotland</td>\n",
              "      <td>England</td>\n",
              "      <td>2</td>\n",
              "      <td>1</td>\n",
              "      <td>Friendly</td>\n",
              "      <td>Glasgow</td>\n",
              "      <td>Scotland</td>\n",
              "      <td>False</td>\n",
              "    </tr>\n",
              "    <tr>\n",
              "      <th>3</th>\n",
              "      <td>1875-03-06</td>\n",
              "      <td>England</td>\n",
              "      <td>Scotland</td>\n",
              "      <td>2</td>\n",
              "      <td>2</td>\n",
              "      <td>Friendly</td>\n",
              "      <td>London</td>\n",
              "      <td>England</td>\n",
              "      <td>False</td>\n",
              "    </tr>\n",
              "    <tr>\n",
              "      <th>4</th>\n",
              "      <td>1876-03-04</td>\n",
              "      <td>Scotland</td>\n",
              "      <td>England</td>\n",
              "      <td>3</td>\n",
              "      <td>0</td>\n",
              "      <td>Friendly</td>\n",
              "      <td>Glasgow</td>\n",
              "      <td>Scotland</td>\n",
              "      <td>False</td>\n",
              "    </tr>\n",
              "  </tbody>\n",
              "</table>\n",
              "</div>"
            ],
            "text/plain": [
              "         date home_team away_team  ...     city   country neutral\n",
              "0  1872-11-30  Scotland   England  ...  Glasgow  Scotland   False\n",
              "1  1873-03-08   England  Scotland  ...   London   England   False\n",
              "2  1874-03-07  Scotland   England  ...  Glasgow  Scotland   False\n",
              "3  1875-03-06   England  Scotland  ...   London   England   False\n",
              "4  1876-03-04  Scotland   England  ...  Glasgow  Scotland   False\n",
              "\n",
              "[5 rows x 9 columns]"
            ]
          },
          "metadata": {
            "tags": []
          },
          "execution_count": 7
        }
      ]
    },
    {
      "cell_type": "code",
      "metadata": {
        "id": "e9AzGcZFrIIr",
        "colab": {
          "base_uri": "https://localhost:8080/",
          "height": 285
        },
        "outputId": "adf13fd2-7367-4181-9996-203c24f3b9ce"
      },
      "source": [
        "# Previewing the last five rows\n",
        "results.tail()"
      ],
      "execution_count": 8,
      "outputs": [
        {
          "output_type": "execute_result",
          "data": {
            "text/html": [
              "<div>\n",
              "<style scoped>\n",
              "    .dataframe tbody tr th:only-of-type {\n",
              "        vertical-align: middle;\n",
              "    }\n",
              "\n",
              "    .dataframe tbody tr th {\n",
              "        vertical-align: top;\n",
              "    }\n",
              "\n",
              "    .dataframe thead th {\n",
              "        text-align: right;\n",
              "    }\n",
              "</style>\n",
              "<table border=\"1\" class=\"dataframe\">\n",
              "  <thead>\n",
              "    <tr style=\"text-align: right;\">\n",
              "      <th></th>\n",
              "      <th>date</th>\n",
              "      <th>home_team</th>\n",
              "      <th>away_team</th>\n",
              "      <th>home_score</th>\n",
              "      <th>away_score</th>\n",
              "      <th>tournament</th>\n",
              "      <th>city</th>\n",
              "      <th>country</th>\n",
              "      <th>neutral</th>\n",
              "    </tr>\n",
              "  </thead>\n",
              "  <tbody>\n",
              "    <tr>\n",
              "      <th>40834</th>\n",
              "      <td>2019-07-18</td>\n",
              "      <td>American Samoa</td>\n",
              "      <td>Tahiti</td>\n",
              "      <td>8</td>\n",
              "      <td>1</td>\n",
              "      <td>Pacific Games</td>\n",
              "      <td>Apia</td>\n",
              "      <td>Samoa</td>\n",
              "      <td>True</td>\n",
              "    </tr>\n",
              "    <tr>\n",
              "      <th>40835</th>\n",
              "      <td>2019-07-18</td>\n",
              "      <td>Fiji</td>\n",
              "      <td>Solomon Islands</td>\n",
              "      <td>4</td>\n",
              "      <td>4</td>\n",
              "      <td>Pacific Games</td>\n",
              "      <td>Apia</td>\n",
              "      <td>Samoa</td>\n",
              "      <td>True</td>\n",
              "    </tr>\n",
              "    <tr>\n",
              "      <th>40836</th>\n",
              "      <td>2019-07-19</td>\n",
              "      <td>Senegal</td>\n",
              "      <td>Algeria</td>\n",
              "      <td>0</td>\n",
              "      <td>1</td>\n",
              "      <td>African Cup of Nations</td>\n",
              "      <td>Cairo</td>\n",
              "      <td>Egypt</td>\n",
              "      <td>True</td>\n",
              "    </tr>\n",
              "    <tr>\n",
              "      <th>40837</th>\n",
              "      <td>2019-07-19</td>\n",
              "      <td>Tajikistan</td>\n",
              "      <td>North Korea</td>\n",
              "      <td>0</td>\n",
              "      <td>1</td>\n",
              "      <td>Intercontinental Cup</td>\n",
              "      <td>Ahmedabad</td>\n",
              "      <td>India</td>\n",
              "      <td>True</td>\n",
              "    </tr>\n",
              "    <tr>\n",
              "      <th>40838</th>\n",
              "      <td>2019-07-20</td>\n",
              "      <td>Papua New Guinea</td>\n",
              "      <td>Fiji</td>\n",
              "      <td>1</td>\n",
              "      <td>1</td>\n",
              "      <td>Pacific Games</td>\n",
              "      <td>Apia</td>\n",
              "      <td>Samoa</td>\n",
              "      <td>True</td>\n",
              "    </tr>\n",
              "  </tbody>\n",
              "</table>\n",
              "</div>"
            ],
            "text/plain": [
              "             date         home_team  ... country  neutral\n",
              "40834  2019-07-18    American Samoa  ...   Samoa     True\n",
              "40835  2019-07-18              Fiji  ...   Samoa     True\n",
              "40836  2019-07-19           Senegal  ...   Egypt     True\n",
              "40837  2019-07-19        Tajikistan  ...   India     True\n",
              "40838  2019-07-20  Papua New Guinea  ...   Samoa     True\n",
              "\n",
              "[5 rows x 9 columns]"
            ]
          },
          "metadata": {
            "tags": []
          },
          "execution_count": 8
        }
      ]
    },
    {
      "cell_type": "code",
      "metadata": {
        "id": "n8-dW4sQWzbc",
        "colab": {
          "base_uri": "https://localhost:8080/"
        },
        "outputId": "ab62cab0-3977-4895-c13b-b75380afd26b"
      },
      "source": [
        "# Checking the number of non null values and datatypes of the dataset\n",
        "results.info()"
      ],
      "execution_count": 9,
      "outputs": [
        {
          "output_type": "stream",
          "text": [
            "<class 'pandas.core.frame.DataFrame'>\n",
            "RangeIndex: 40839 entries, 0 to 40838\n",
            "Data columns (total 9 columns):\n",
            " #   Column      Non-Null Count  Dtype \n",
            "---  ------      --------------  ----- \n",
            " 0   date        40839 non-null  object\n",
            " 1   home_team   40839 non-null  object\n",
            " 2   away_team   40839 non-null  object\n",
            " 3   home_score  40839 non-null  int64 \n",
            " 4   away_score  40839 non-null  int64 \n",
            " 5   tournament  40839 non-null  object\n",
            " 6   city        40839 non-null  object\n",
            " 7   country     40839 non-null  object\n",
            " 8   neutral     40839 non-null  bool  \n",
            "dtypes: bool(1), int64(2), object(6)\n",
            "memory usage: 2.5+ MB\n"
          ],
          "name": "stdout"
        }
      ]
    },
    {
      "cell_type": "markdown",
      "metadata": {
        "id": "OmNldSVG3CEd"
      },
      "source": [
        "No null values in the date column,however on the date column the data type should be datetime format"
      ]
    },
    {
      "cell_type": "markdown",
      "metadata": {
        "id": "ckfufNrcUHeH"
      },
      "source": [
        "## 4. External Data Source Validation"
      ]
    },
    {
      "cell_type": "markdown",
      "metadata": {
        "id": "6L4sl_0WXlbg"
      },
      "source": [
        "Making sure your data matches something outside of the dataset is very important. It allows you to ensure that the measurements are roughly in line with what they should be and it serves as a check on what other things might be wrong in your dataset. External validation can often be as simple as checking your data against a single number, as we will do here."
      ]
    },
    {
      "cell_type": "markdown",
      "metadata": {
        "id": "6XC_g-zKxe-r"
      },
      "source": [
        "### a.Validation"
      ]
    },
    {
      "cell_type": "markdown",
      "metadata": {
        "id": "FlBMxEDBUc9B"
      },
      "source": [
        "# 5. Tidying the Dataset"
      ]
    },
    {
      "cell_type": "markdown",
      "metadata": {
        "id": "NxSdZMRZ329D"
      },
      "source": [
        "## Data cleaning: Fifa ranking dataset"
      ]
    },
    {
      "cell_type": "code",
      "metadata": {
        "colab": {
          "base_uri": "https://localhost:8080/"
        },
        "id": "bPVioYay5T6O",
        "outputId": "23fecb8e-65be-477d-ffcb-2e8a33018044"
      },
      "source": [
        "ranking.columns"
      ],
      "execution_count": 10,
      "outputs": [
        {
          "output_type": "execute_result",
          "data": {
            "text/plain": [
              "Index(['rank', 'country_full', 'country_abrv', 'total_points',\n",
              "       'previous_points', 'rank_change', 'cur_year_avg',\n",
              "       'cur_year_avg_weighted', 'last_year_avg', 'last_year_avg_weighted',\n",
              "       'two_year_ago_avg', 'two_year_ago_weighted', 'three_year_ago_avg',\n",
              "       'three_year_ago_weighted', 'confederation', 'rank_date'],\n",
              "      dtype='object')"
            ]
          },
          "metadata": {
            "tags": []
          },
          "execution_count": 10
        }
      ]
    },
    {
      "cell_type": "markdown",
      "metadata": {
        "id": "VcnttKGY-NEB"
      },
      "source": [
        "> Checking for outliers: Boxplots"
      ]
    },
    {
      "cell_type": "code",
      "metadata": {
        "id": "5o_bQcT5W3Wz",
        "colab": {
          "base_uri": "https://localhost:8080/",
          "height": 330
        },
        "outputId": "38554977-533a-4902-f9cc-33f10e0dd8e8"
      },
      "source": [
        "# checking for outliers\n",
        "fig = plt.figure(figsize=(9,5),edgecolor='red')\n",
        "fig,(ax1,ax2,ax3,ax4)=plt.subplots(1,4,figsize=(15,4))\n",
        "fig.suptitle('Boxplots for the numerical columns')\n",
        "sns.boxplot(data=ranking,x=ranking['rank'],ax=ax1,showmeans=True)\n",
        "sns.boxplot(data=ranking,x=ranking['total_points'],ax=ax2,showmeans=True)\n",
        "sns.boxplot(data=ranking,x=ranking['previous_points'],ax=ax3,showmeans=True)\n",
        "sns.boxplot(data=ranking,x=ranking['rank_change'],ax=ax4,showmeans=True)\n"
      ],
      "execution_count": 11,
      "outputs": [
        {
          "output_type": "execute_result",
          "data": {
            "text/plain": [
              "<matplotlib.axes._subplots.AxesSubplot at 0x7f6c46c5f6d0>"
            ]
          },
          "metadata": {
            "tags": []
          },
          "execution_count": 11
        },
        {
          "output_type": "display_data",
          "data": {
            "text/plain": [
              "<Figure size 648x360 with 0 Axes>"
            ]
          },
          "metadata": {
            "tags": []
          }
        },
        {
          "output_type": "display_data",
          "data": {
            "image/png": "[encoded data removed]",
            "text/plain": [
              "<Figure size 1080x288 with 4 Axes>"
            ]
          },
          "metadata": {
            "tags": [],
            "needs_background": "light"
          }
        }
      ]
    },
    {
      "cell_type": "markdown",
      "metadata": {
        "id": "8celNT5_98M9"
      },
      "source": [
        "The total points, previous points and rank change have outliers. However they will not be dropped as they are essential in our analysis"
      ]
    },
    {
      "cell_type": "markdown",
      "metadata": {
        "id": "sVKVpRun-VBO"
      },
      "source": [
        "> Checking for outliers: using IQR"
      ]
    },
    {
      "cell_type": "code",
      "metadata": {
        "colab": {
          "base_uri": "https://localhost:8080/"
        },
        "id": "shm86G5B-cL2",
        "outputId": "1af103a4-e053-41a5-e716-f1f52b0318c0"
      },
      "source": [
        "Q1 = ranking.quantile(0.25)\n",
        "Q3 = ranking.quantile(0.75)\n",
        "IQR = Q3 - Q1\n",
        "ranking_new = ranking[~((ranking < (Q1 - 1.5 * IQR)) | (ranking > (Q3 + 1.5 * IQR))).any(axis=1)]\n",
        "print(ranking_new.shape)\n",
        "print(ranking.shape)"
      ],
      "execution_count": 12,
      "outputs": [
        {
          "output_type": "stream",
          "text": [
            "(36577, 16)\n",
            "(57793, 16)\n"
          ],
          "name": "stdout"
        }
      ]
    },
    {
      "cell_type": "code",
      "metadata": {
        "id": "PWlukLKUvFQN",
        "colab": {
          "base_uri": "https://localhost:8080/"
        },
        "outputId": "ce57f8d2-c94d-46c7-886f-feaeea264cd4"
      },
      "source": [
        "# Checking for Anomalies\n",
        "#by checking if there are issues with the records within the categorical columns \n",
        "#creating a list of the columns of interest\n",
        "#creating a dictionary which will have the column name and the unique values\n",
        "columns = ranking [['country_full','confederation']]\n",
        "\n",
        "unique_values = {col:ranking[col].unique() for col in columns}\n",
        "unique_values"
      ],
      "execution_count": 13,
      "outputs": [
        {
          "output_type": "execute_result",
          "data": {
            "text/plain": [
              "{'confederation': array(['UEFA', 'CONMEBOL', 'CONCACAF', 'CAF', 'AFC', 'OFC'], dtype=object),\n",
              " 'country_full': array(['Germany', 'Italy', 'Switzerland', 'Sweden', 'Argentina',\n",
              "        'Republic of Ireland', 'Russia', 'Brazil', 'Norway', 'Denmark',\n",
              "        'England', 'France', 'Spain', 'Mexico', 'RCS', 'Netherlands',\n",
              "        'Nigeria', 'Belgium', 'Colombia', 'Poland', 'Romania', 'Uruguay',\n",
              "        'Portugal', 'Cameroon', 'Zambia', 'Egypt', 'Wales', 'USA',\n",
              "        \"Côte d'Ivoire\", 'Scotland', 'Tunisia', 'Greece', 'Morocco',\n",
              "        'Algeria', 'Ecuador', 'Korea Republic', 'Bulgaria', 'Austria',\n",
              "        'Costa Rica', 'Northern Ireland', 'Honduras', 'Hungary', 'Japan',\n",
              "        'Saudi Arabia', 'China PR', 'Canada', 'Finland', 'Ghana', 'Chile',\n",
              "        'Zimbabwe', 'Qatar', 'Australia', 'Iceland', 'IR Iran',\n",
              "        'United Arab Emirates', 'Yugoslavia', 'Iraq', 'Senegal', 'Bolivia',\n",
              "        'Kuwait', 'Korea DPR', 'El Salvador', 'Turkey', 'Gabon', 'Guinea',\n",
              "        'Thailand', 'Paraguay', 'Malawi', 'Israel', 'Peru', 'Zaire',\n",
              "        'Cyprus', 'Singapore', 'Mali', 'Malaysia', 'Bermuda', 'Niger',\n",
              "        'Syria', 'Bahrain', 'New Zealand', 'Madagascar', 'Malta',\n",
              "        'Jamaica', 'Lithuania', 'Trinidad and Tobago', 'Sierra Leone',\n",
              "        'Jordan', 'Kenya', 'Latvia', 'Yemen', 'Tanzania', 'Albania',\n",
              "        'Angola', 'Venezuela', 'Ethiopia', 'Burundi', 'Oman', 'Indonesia',\n",
              "        'Liberia', 'Mozambique', 'Puerto Rico', 'Swaziland', 'Hong Kong',\n",
              "        'Uganda', 'Barbados', 'Myanmar', 'Congo', 'Lebanon',\n",
              "        'South Africa', 'Luxembourg', 'Faroe Islands', 'Guatemala',\n",
              "        'Burkina Faso', 'Togo', 'Suriname', 'Fiji', 'Croatia', 'Estonia',\n",
              "        'San Marino', 'Bangladesh', 'St Vincent and the Grenadines',\n",
              "        'Netherlands Antilles', 'Mauritius', 'Benin', 'Panama', 'Sudan',\n",
              "        'Antigua and Barbuda', 'Slovenia', 'India', 'Belarus', 'Ukraine',\n",
              "        'Vietnam', 'Guinea-Bissau', 'Guyana', 'Botswana', 'St Lucia',\n",
              "        'Tahiti', 'Grenada', 'Haiti', 'Libya', 'Laos', 'Mauritania',\n",
              "        'Cape Verde Islands', 'Solomon Islands', 'Brunei Darussalam',\n",
              "        'Lesotho', 'Dominican Republic', 'Pakistan', 'Nicaragua', 'Cuba',\n",
              "        'Seychelles', 'Central African Republic', 'Gambia', 'Namibia',\n",
              "        'Cayman Islands', 'Nepal', 'Liechtenstein', 'Equatorial Guinea',\n",
              "        'Chinese Taipei', 'Sri Lanka', 'Philippines', 'Chad', 'Vanuatu',\n",
              "        'Aruba', 'Bahamas', 'Maldives', 'Macau', 'Slovakia',\n",
              "        'St Kitts and Nevis', 'Czech Republic', 'Georgia', 'FYR Macedonia',\n",
              "        'Moldova', 'Armenia', 'Azerbaijan', 'Uzbekistan', 'Turkmenistan',\n",
              "        'Kazakhstan', 'Tajikistan', 'Kyrgyz Republic', 'Somalia',\n",
              "        'Djibouti', 'Dominica', 'Rwanda', 'Belize', 'Cambodia',\n",
              "        'Bosnia and Herzegovina', 'Guam', 'Papua New Guinea', 'Tonga',\n",
              "        'Samoa', 'Andorra', 'Cook Islands', 'British Virgin Islands',\n",
              "        'Anguilla', 'São Tomé e Príncipe', 'Eritrea', 'American Samoa',\n",
              "        'Palestine', 'Mongolia', 'Turks and Caicos Islands',\n",
              "        'US Virgin Islands', 'Montserrat', 'Congo DR', 'Bhutan',\n",
              "        'Serbia and Montenegro', 'Afghanistan', 'New Caledonia', 'Serbia',\n",
              "        'Timor-Leste', 'Comoros', 'Montenegro', 'Curaçao', 'South Sudan',\n",
              "        'Kosovo', 'Gibraltar'], dtype=object)}"
            ]
          },
          "metadata": {
            "tags": []
          },
          "execution_count": 13
        }
      ]
    },
    {
      "cell_type": "code",
      "metadata": {
        "id": "PvCYb6dgW4yh",
        "colab": {
          "base_uri": "https://localhost:8080/"
        },
        "outputId": "a35c71bb-086c-4e08-ebba-c2d2b6437fa1"
      },
      "source": [
        "# checking for missing data\n",
        "# there are no null values\n",
        "ranking.isnull().sum().sum()"
      ],
      "execution_count": 14,
      "outputs": [
        {
          "output_type": "execute_result",
          "data": {
            "text/plain": [
              "0"
            ]
          },
          "metadata": {
            "tags": []
          },
          "execution_count": 14
        }
      ]
    },
    {
      "cell_type": "code",
      "metadata": {
        "colab": {
          "base_uri": "https://localhost:8080/"
        },
        "id": "-Zq3UAmeArJL",
        "outputId": "bb6fb4af-aa1c-4809-c9a2-18ab5c3fea1b"
      },
      "source": [
        "ranking.duplicated().sum()"
      ],
      "execution_count": 15,
      "outputs": [
        {
          "output_type": "execute_result",
          "data": {
            "text/plain": [
              "37"
            ]
          },
          "metadata": {
            "tags": []
          },
          "execution_count": 15
        }
      ]
    },
    {
      "cell_type": "markdown",
      "metadata": {
        "id": "3AOitmm-Avy9"
      },
      "source": [
        "* There are 37 duplicated values within the dataset"
      ]
    },
    {
      "cell_type": "code",
      "metadata": {
        "colab": {
          "base_uri": "https://localhost:8080/"
        },
        "id": "pWMIIgDuA2Ul",
        "outputId": "3e7e3bb8-3ecf-479b-d58f-7bc00afe8f76"
      },
      "source": [
        "#dropping duplicates\n",
        "ranking = ranking.drop_duplicates()\n",
        "#confirming they were dropped\n",
        "ranking.duplicated().any()"
      ],
      "execution_count": 16,
      "outputs": [
        {
          "output_type": "execute_result",
          "data": {
            "text/plain": [
              "False"
            ]
          },
          "metadata": {
            "tags": []
          },
          "execution_count": 16
        }
      ]
    },
    {
      "cell_type": "markdown",
      "metadata": {
        "id": "yXnCQqz-CyT6"
      },
      "source": [
        "## Data Cleaning:Fifa results dataset"
      ]
    },
    {
      "cell_type": "code",
      "metadata": {
        "id": "D-4I__6Os4C5",
        "colab": {
          "base_uri": "https://localhost:8080/"
        },
        "outputId": "255e98f0-73e3-415c-d424-70ec2df23229"
      },
      "source": [
        "#checking for outliers\n",
        "Q1 = results.quantile(0.25)\n",
        "Q3 = results.quantile(0.75)\n",
        "IQR = Q3 - Q1\n",
        "results_out = results[~((ranking < (Q1 - 1.5 * IQR)) | (ranking > (Q3 + 1.5 * IQR))).any(axis=1)]\n",
        "print(results_out.shape)\n",
        "print(results.shape)\n"
      ],
      "execution_count": 17,
      "outputs": [
        {
          "output_type": "stream",
          "text": [
            "(40839, 9)\n",
            "(40839, 9)\n"
          ],
          "name": "stdout"
        },
        {
          "output_type": "stream",
          "text": [
            "/usr/local/lib/python3.7/dist-packages/ipykernel_launcher.py:5: UserWarning: Boolean Series key will be reindexed to match DataFrame index.\n",
            "  \"\"\"\n"
          ],
          "name": "stderr"
        }
      ]
    },
    {
      "cell_type": "markdown",
      "metadata": {
        "id": "4k8Z5IHaDUSX"
      },
      "source": [
        "There are no outliers and duplicates"
      ]
    },
    {
      "cell_type": "code",
      "metadata": {
        "colab": {
          "base_uri": "https://localhost:8080/"
        },
        "id": "fqzTWrScDToR",
        "outputId": "59ade8f6-aed8-4c38-fbf0-88f49b4becc4"
      },
      "source": [
        "#checking for duplicates\n",
        "results.duplicated().sum()"
      ],
      "execution_count": 22,
      "outputs": [
        {
          "output_type": "execute_result",
          "data": {
            "text/plain": [
              "0"
            ]
          },
          "metadata": {
            "tags": []
          },
          "execution_count": 22
        }
      ]
    },
    {
      "cell_type": "markdown",
      "metadata": {
        "id": "JaQspmIKDd_f"
      },
      "source": [
        "No duplicates"
      ]
    },
    {
      "cell_type": "code",
      "metadata": {
        "colab": {
          "base_uri": "https://localhost:8080/"
        },
        "id": "m3Z0oOPZD3U4",
        "outputId": "03e43a15-bce3-49da-c205-c33138af7861"
      },
      "source": [
        "results.columns"
      ],
      "execution_count": 18,
      "outputs": [
        {
          "output_type": "execute_result",
          "data": {
            "text/plain": [
              "Index(['date', 'home_team', 'away_team', 'home_score', 'away_score',\n",
              "       'tournament', 'city', 'country', 'neutral'],\n",
              "      dtype='object')"
            ]
          },
          "metadata": {
            "tags": []
          },
          "execution_count": 18
        }
      ]
    },
    {
      "cell_type": "code",
      "metadata": {
        "colab": {
          "base_uri": "https://localhost:8080/"
        },
        "id": "_UWFaajBDc2S",
        "outputId": "da5b4652-6862-4942-a76a-ce5b65291770"
      },
      "source": [
        "#checking for uniques values to detect anomalies within the dataset\n",
        "columns = results [['home_team','away_team','tournament','city']]\n",
        "\n",
        "unique_values = {col:results[col].unique() for col in columns}\n",
        "unique_values"
      ],
      "execution_count": 19,
      "outputs": [
        {
          "output_type": "execute_result",
          "data": {
            "text/plain": [
              "{'away_team': array(['England', 'Scotland', 'Wales', 'Northern Ireland', 'Canada',\n",
              "        'Argentina', 'Hungary', 'Czechoslovakia', 'Uruguay', 'France',\n",
              "        'Austria', 'Switzerland', 'Netherlands', 'Belgium', 'Germany',\n",
              "        'Norway', 'Sweden', 'Italy', 'Chile', 'Catalonia', 'Finland',\n",
              "        'Russia', 'Luxembourg', 'Denmark', 'Brazil', 'Basque Country',\n",
              "        'United States', 'Philippines', 'Estonia', 'Provence',\n",
              "        'El Salvador', 'Costa Rica', 'Paraguay', 'Yugoslavia', 'Poland',\n",
              "        'Portugal', 'Spain', 'Romania', 'Australia', 'Central Spain',\n",
              "        'Mexico', 'Galicia', 'Brittany', 'Asturias', 'China PR',\n",
              "        'New Zealand', 'Latvia', 'Guatemala', 'Curaçao', 'Bulgaria',\n",
              "        'Lithuania', 'Turkey', 'Egypt', 'South Africa', 'Jamaica', 'Japan',\n",
              "        'Republic of Ireland', 'Uganda', 'Bolivia', 'Haiti',\n",
              "        'Trinidad and Tobago', 'Kenya', 'Ukraine', 'Honduras', 'Nicaragua',\n",
              "        'Greece', 'Guyana', 'Peru', 'Aruba', 'Martinique', 'Barbados',\n",
              "        'Cuba', 'Israel', 'Indonesia', 'Suriname', 'Saint Lucia',\n",
              "        'Ecuador', 'Venezuela', 'Grenada', 'India', 'Panama', 'Slovakia',\n",
              "        'Croatia', 'Lebanon', 'Manchukuo', 'Puerto Rico', 'Iran',\n",
              "        'Guadeloupe', 'Mongolia', 'Colombia', 'Tanzania', 'Zambia',\n",
              "        'Montenegro', 'Mauritius', 'Zimbabwe', 'French Guiana', 'Réunion',\n",
              "        'Albania', 'Zanzibar', 'Ethiopia', 'Madagascar', 'Dominica',\n",
              "        'South Korea', 'Djibouti', 'Dominican Republic', 'Cyprus',\n",
              "        'Iceland', 'Nigeria', 'Syria', 'DR Congo', 'Serbia',\n",
              "        'Chinese Taipei', 'Afghanistan', 'Vanuatu', 'Ghana', 'Pakistan',\n",
              "        'German DR', 'Sierra Leone', 'Guinea-Bissau', 'Gambia', 'Saarland',\n",
              "        'Tahiti', 'Burundi', 'Sri Lanka', 'Thailand', 'Burma',\n",
              "        'New Caledonia', 'Cambodia', 'Malaysia', 'Vietnam Republic',\n",
              "        'Kyrgyzstan', 'Belarus', 'Moldova', 'North Vietnam', 'Togo',\n",
              "        'North Korea', 'Sudan', 'Libya', 'Hong Kong', 'Singapore', 'Malta',\n",
              "        'Benin', 'Cape Verde', 'Mali', 'Burkina Faso', 'Ivory Coast',\n",
              "        'Cameroon', 'Iraq', 'Tunisia', 'Morocco',\n",
              "        'Saint Vincent and the Grenadines', 'Guinea', 'Congo', 'Gabon',\n",
              "        'Malawi', 'Jordan', 'Senegal', 'Kuwait', 'Papua New Guinea',\n",
              "        'Solomon Islands', 'Liberia', 'Somalia', 'Laos', 'Saudi Arabia',\n",
              "        'Algeria', 'Chad', 'Central African Republic', 'Bermuda',\n",
              "        'Palestine', 'Yemen', 'Bahrain', 'Wallis Islands and Futuna',\n",
              "        'Niger', 'Corsica', 'Western Australia', 'Botswana', 'Fiji',\n",
              "        'Eswatini', 'Qatar', 'Lesotho', 'Bahamas', 'Brunei',\n",
              "        'Cook Islands', 'Yemen DPR', 'United Arab Emirates',\n",
              "        'Faroe Islands', 'Nepal', 'Antigua and Barbuda', 'Bangladesh',\n",
              "        'Seychelles', 'Oman', 'Equatorial Guinea', 'Mozambique',\n",
              "        'Mauritania', 'Angola', 'São Tomé and Príncipe', 'Macau',\n",
              "        'Saint Kitts and Nevis', 'Armenia', 'Kazakhstan', 'Tonga',\n",
              "        'Kiribati', 'Tuvalu', 'Samoa', 'Greenland', 'Northern Cyprus',\n",
              "        'Rwanda', 'Liechtenstein', 'Bhutan', 'American Samoa',\n",
              "        'Cayman Islands', 'British Virgin Islands', 'Sint Maarten',\n",
              "        'Ynys Môn', 'Shetland', 'Åland Islands', 'Saint Martin',\n",
              "        'San Marino', 'Montserrat', 'Anguilla', 'Guernsey',\n",
              "        'Isle of Wight', 'Jersey', 'Georgia', 'Guam', 'Turkmenistan',\n",
              "        'Slovenia', 'Uzbekistan', 'Eritrea', 'Tajikistan', 'Namibia',\n",
              "        'Azerbaijan', 'Czech Republic', 'Vietnam', 'Isle of Man',\n",
              "        'Gibraltar', 'North Macedonia', 'Belize', 'Bosnia and Herzegovina',\n",
              "        'Maldives', 'Andorra', 'Frøya', 'Hitra',\n",
              "        'Northern Mariana Islands', 'Kernow', 'Turks and Caicos Islands',\n",
              "        'U.S. Virgin Islands', 'Micronesia', 'Saare County', 'Rhodes',\n",
              "        'Tibet', 'Orkney', 'Falkland Islands', 'Mayotte', 'Monaco',\n",
              "        'Vatican City', 'East Timor', 'Gotland', 'Alderney', 'Sark',\n",
              "        'Western Isles', 'Sápmi', 'Crimea', 'Comoros', 'Menorca',\n",
              "        'Iraqi Kurdistan', 'Padania', 'Arameans Suryoye', 'Occitania',\n",
              "        'Gozo', 'Two Sicilies', 'St. Pierre & Miquelon', 'Bonaire',\n",
              "        'Western Sahara', 'Raetia', 'Darfur', 'Tamil Eelam', 'Artsakh',\n",
              "        'Abkhazia', 'South Sudan', 'Andalusia', 'South Ossetia',\n",
              "        'County of Nice', 'Ellan Vannin', 'Romani people', 'Felvidék',\n",
              "        'Chagos Islands', 'Székely Land', 'Somaliland', 'Western Armenia',\n",
              "        'Panjab', 'Kosovo', 'Kárpátalja', 'Yorkshire', 'Surrey',\n",
              "        'Cascadia', 'Matabeleland', 'Kabylia', 'United Koreans in Japan',\n",
              "        'Timor-Leste', 'Myanmar', 'Barawa', 'Parishes of Jersey',\n",
              "        'Chameria', 'Saint Helena', 'Curacao'], dtype=object),\n",
              " 'city': array(['Glasgow', 'London', 'Wrexham', ..., 'New Jersey', 'Ahmedabad',\n",
              "        'Ismaila'], dtype=object),\n",
              " 'home_team': array(['Scotland', 'England', 'Wales', 'Northern Ireland',\n",
              "        'United States', 'Uruguay', 'Austria', 'Hungary', 'Argentina',\n",
              "        'Belgium', 'France', 'Netherlands', 'Czechoslovakia',\n",
              "        'Switzerland', 'Sweden', 'Germany', 'Italy', 'Chile', 'Norway',\n",
              "        'Finland', 'Luxembourg', 'Russia', 'Denmark', 'Catalonia',\n",
              "        'Basque Country', 'Brazil', 'Japan', 'Paraguay', 'Canada',\n",
              "        'Estonia', 'Costa Rica', 'Guatemala', 'Spain', 'Brittany',\n",
              "        'Poland', 'Yugoslavia', 'New Zealand', 'Romania', 'Latvia',\n",
              "        'Galicia', 'Portugal', 'Andalusia', 'China PR', 'Australia',\n",
              "        'Lithuania', 'Turkey', 'Central Spain', 'Mexico', 'Aruba', 'Egypt',\n",
              "        'Haiti', 'Philippines', 'Bulgaria', 'Jamaica', 'Kenya', 'Bolivia',\n",
              "        'Peru', 'Honduras', 'Guyana', 'Uganda', 'Belarus', 'El Salvador',\n",
              "        'Barbados', 'Republic of Ireland', 'Trinidad and Tobago', 'Greece',\n",
              "        'Curaçao', 'Dominica', 'Silesia', 'Guadeloupe', 'Israel',\n",
              "        'Suriname', 'French Guiana', 'Cuba', 'Colombia', 'Ecuador',\n",
              "        'Saint Kitts and Nevis', 'Panama', 'Slovakia', 'Manchukuo',\n",
              "        'Croatia', 'Nicaragua', 'Afghanistan', 'India', 'Martinique',\n",
              "        'Zimbabwe', 'Iceland', 'Albania', 'Madagascar', 'Zambia',\n",
              "        'Mauritius', 'Tanzania', 'Iran', 'Djibouti', 'DR Congo', 'Vietnam',\n",
              "        'Macau', 'Ethiopia', 'Puerto Rico', 'Réunion', 'Sierra Leone',\n",
              "        'Zanzibar', 'South Korea', 'Ghana', 'South Africa',\n",
              "        'New Caledonia', 'Fiji', 'Nigeria', 'Venezuela', 'Burma',\n",
              "        'Sri Lanka', 'Tahiti', 'Gambia', 'Hong Kong', 'Singapore',\n",
              "        'Malaysia', 'Indonesia', 'Guinea-Bissau', 'German DR', 'Vanuatu',\n",
              "        'Kernow', 'Saarland', 'Cambodia', 'Lebanon', 'Pakistan',\n",
              "        'Vietnam Republic', 'North Korea', 'Togo', 'Sudan', 'Malta',\n",
              "        'Syria', 'Tunisia', 'Malawi', 'Morocco', 'Benin', 'Cameroon',\n",
              "        'Central African Republic', 'Gabon', 'Ivory Coast', 'Congo',\n",
              "        'Mali', 'North Vietnam', 'Mongolia', 'Chinese Taipei', 'Cyprus',\n",
              "        'Iraq', 'Saint Lucia', 'Grenada', 'Thailand', 'Senegal', 'Libya',\n",
              "        'Guinea', 'Algeria', 'Kuwait', 'Jordan', 'Solomon Islands',\n",
              "        'Liberia', 'Laos', 'Saint Vincent and the Grenadines', 'Bermuda',\n",
              "        'Niger', 'Bahrain', 'Montenegro', 'Palestine', 'Papua New Guinea',\n",
              "        'Burkina Faso', 'Mauritania', 'Saudi Arabia', 'Eswatini',\n",
              "        'Somalia', 'Lesotho', 'Cook Islands', 'Qatar',\n",
              "        'Antigua and Barbuda', 'Faroe Islands', 'Bangladesh', 'Oman',\n",
              "        'Yemen DPR', 'Burundi', 'Yemen', 'Mozambique', 'Guam', 'Chad',\n",
              "        'Angola', 'Dominican Republic', 'Seychelles', 'Rwanda',\n",
              "        'São Tomé and Príncipe', 'Botswana', 'Northern Cyprus',\n",
              "        'Cape Verde', 'Kyrgyzstan', 'Georgia', 'Azerbaijan', 'Kiribati',\n",
              "        'Tonga', 'Wallis Islands and Futuna', 'United Arab Emirates',\n",
              "        'Brunei', 'Equatorial Guinea', 'Liechtenstein', 'Nepal',\n",
              "        'Greenland', 'Niue', 'Samoa', 'American Samoa', 'Belize',\n",
              "        'Anguilla', 'Cayman Islands', 'Palau', 'Sint Maarten', 'Namibia',\n",
              "        'Åland Islands', 'Ynys Môn', 'Saint Martin', 'San Marino',\n",
              "        'Slovenia', 'Jersey', 'Shetland', 'Isle of Wight', 'Moldova',\n",
              "        'Ukraine', 'Kazakhstan', 'Tajikistan', 'Uzbekistan',\n",
              "        'Turkmenistan', 'Armenia', 'Czech Republic', 'Guernsey',\n",
              "        'Gibraltar', 'Isle of Man', 'North Macedonia', 'Montserrat',\n",
              "        'Serbia', 'Canary Islands', 'Bosnia and Herzegovina', 'Maldives',\n",
              "        'Andorra', 'British Virgin Islands', 'Frøya', 'Hitra',\n",
              "        'U.S. Virgin Islands', 'Corsica', 'Eritrea', 'Bahamas', 'Gotland',\n",
              "        'Saare County', 'Rhodes', 'Micronesia', 'Bhutan', 'Orkney',\n",
              "        'Monaco', 'Tuvalu', 'Sark', 'Alderney', 'Mayotte',\n",
              "        'Turks and Caicos Islands', 'East Timor', 'Western Isles',\n",
              "        'Falkland Islands', 'Kosovo', 'Republic of St. Pauli', 'Găgăuzia',\n",
              "        'Tibet', 'Crimea', 'Occitania', 'Sápmi',\n",
              "        'Northern Mariana Islands', 'Menorca', 'Comoros', 'Provence',\n",
              "        'Arameans Suryoye', 'Padania', 'Iraqi Kurdistan', 'Gozo',\n",
              "        'Bonaire', 'Western Sahara', 'Raetia', 'Darfur', 'Tamil Eelam',\n",
              "        'South Sudan', 'Abkhazia', 'St. Pierre & Miquelon', 'Artsakh',\n",
              "        'Madrid', 'Vatican City', 'Ellan Vannin', 'South Ossetia',\n",
              "        'County of Nice', 'Székely Land', 'Romani people', 'Felvidék',\n",
              "        'Chagos Islands', 'United Koreans in Japan', 'Somaliland',\n",
              "        'Western Armenia', 'Barawa', 'Kárpátalja', 'Yorkshire', 'Panjab',\n",
              "        'Matabeleland', 'Cascadia', 'Kabylia', 'Timor-Leste', 'Myanmar',\n",
              "        'Parishes of Jersey', 'Chameria', 'Saint Helena', 'Curacao'],\n",
              "       dtype=object),\n",
              " 'tournament': array(['Friendly', 'British Championship', 'Copa Lipton', 'Copa Newton',\n",
              "        'Copa Premio Honor Argentino', 'Copa Premio Honor Uruguayo',\n",
              "        'Copa Roca', 'Copa América', 'Copa Chevallier Boutell',\n",
              "        'Nordic Championship', 'International Cup', 'Baltic Cup',\n",
              "        'Balkan Cup', 'FIFA World Cup', 'Copa Rio Branco',\n",
              "        'FIFA World Cup qualification', 'CCCF Championship',\n",
              "        'NAFU Championship', 'Copa Oswaldo Cruz',\n",
              "        'Pan American Championship', 'Copa del Pacífico',\n",
              "        \"Copa Bernardo O'Higgins\", 'AFC Asian Cup qualification',\n",
              "        'Atlantic Cup', 'AFC Asian Cup', 'African Cup of Nations',\n",
              "        'Copa Paz del Chaco', 'Merdeka Tournament',\n",
              "        'UEFA Euro qualification', 'UEFA Euro',\n",
              "        'Windward Islands Tournament',\n",
              "        'African Cup of Nations qualification', 'Vietnam Independence Cup',\n",
              "        'Copa Carlos Dittborn', 'CONCACAF Championship',\n",
              "        'Copa Juan Pinto Durán', 'UAFA Cup', 'South Pacific Games',\n",
              "        'CONCACAF Championship qualification', 'Copa Artigas', 'GaNEFo',\n",
              "        \"King's Cup\", 'Gulf Cup', 'Indonesia Tournament', 'Korea Cup',\n",
              "        'Brazil Independence Cup', 'Copa Ramón Castilla',\n",
              "        'Oceania Nations Cup', 'CECAFA Cup', 'Copa Félix Bogado',\n",
              "        'Kirin Cup', 'CFU Caribbean Cup qualification',\n",
              "        'CFU Caribbean Cup', 'Amílcar Cabral Cup', 'Mundialito',\n",
              "        'West African Cup', 'Nehru Cup', 'Merlion Cup', 'UDEAC Cup',\n",
              "        'Rous Cup', 'Lunar New Year Cup', 'Tournoi de France',\n",
              "        'Malta International Tournament', 'Island Games', 'Dynasty Cup',\n",
              "        'UNCAF Cup', 'Gold Cup', 'USA Cup',\n",
              "        'Jordan International Tournament', 'Confederations Cup',\n",
              "        'United Arab Emirates Friendship Tournament',\n",
              "        'Oceania Nations Cup qualification', 'Simba Tournament',\n",
              "        'SAFF Cup', 'AFF Championship', 'King Hassan II Tournament',\n",
              "        'Cyprus International Tournament', 'Dunhill Cup', 'COSAFA Cup',\n",
              "        'Gold Cup qualification', 'SKN Football Festival', 'UNIFFAC Cup',\n",
              "        'WAFF Championship', 'Millennium Cup', \"Prime Minister's Cup\",\n",
              "        'EAFF Championship', 'AFC Challenge Cup', 'FIFI Wild Cup',\n",
              "        'ELF Cup', 'Viva World Cup', 'UAFA Cup qualification',\n",
              "        'AFC Challenge Cup qualification', 'African Nations Championship',\n",
              "        'VFF Cup', 'Dragon Cup', 'ABCS Tournament',\n",
              "        'Nile Basin Tournament', 'Nations Cup', 'Pacific Games', 'OSN Cup',\n",
              "        'CONIFA World Football Cup', 'CONIFA European Football Cup',\n",
              "        'Copa América qualification', 'World Unity Cup',\n",
              "        'Intercontinental Cup', 'AFF Championship qualification',\n",
              "        'UEFA Nations League', 'Atlantic Heritage Cup',\n",
              "        'Inter Games Football Tournament'], dtype=object)}"
            ]
          },
          "metadata": {
            "tags": []
          },
          "execution_count": 19
        }
      ]
    },
    {
      "cell_type": "code",
      "metadata": {
        "colab": {
          "base_uri": "https://localhost:8080/"
        },
        "id": "aUw3PAhXE0ya",
        "outputId": "1d6287ee-331f-4a25-d991-33b5a8c29188"
      },
      "source": [
        "#checking if the home team is similar to country\n",
        "x = results['home_team'] == results['country']\n",
        "x.value_counts()"
      ],
      "execution_count": 20,
      "outputs": [
        {
          "output_type": "execute_result",
          "data": {
            "text/plain": [
              "True     29938\n",
              "False    10901\n",
              "dtype: int64"
            ]
          },
          "metadata": {
            "tags": []
          },
          "execution_count": 20
        }
      ]
    },
    {
      "cell_type": "markdown",
      "metadata": {
        "id": "v2a-zWtDFfnO"
      },
      "source": [
        "They are not eniterly similar, the home team(name of the team often based on the country) but it gives us insights that this difference could differentiate the home rank and the away rank"
      ]
    },
    {
      "cell_type": "markdown",
      "metadata": {
        "id": "Q-iXZ2BZGIpy"
      },
      "source": [
        ">changing the dates to datetime for both datasets"
      ]
    },
    {
      "cell_type": "code",
      "metadata": {
        "id": "CofVK3E2GEOJ"
      },
      "source": [
        "#Ranking dataset\n",
        "ranking['rank_date'] = pd.to_datetime(ranking['rank_date'])\n",
        "ranking['year'] = ranking['rank_date'].dt.year\n",
        "#dropping the ranking date column\n",
        "ranking = ranking.drop(columns=['rank_date'],axis=1)"
      ],
      "execution_count": 21,
      "outputs": []
    },
    {
      "cell_type": "code",
      "metadata": {
        "id": "H2kNXynnHbGz"
      },
      "source": [
        "#results dataset\n",
        "results['date'] = pd.to_datetime(results['date'])\n",
        "results['year'] = results['date'].dt.year\n",
        "#dropping the ranking date column\n",
        "#results = ranking.drop(columns=['date'],axis=1)"
      ],
      "execution_count": 22,
      "outputs": []
    },
    {
      "cell_type": "code",
      "metadata": {
        "colab": {
          "base_uri": "https://localhost:8080/"
        },
        "id": "PDkhFXNNHzfQ",
        "outputId": "e2ff8cce-6e60-4d8b-9c74-93b8a775bd84"
      },
      "source": [
        "#which are the unique values within the year columns for both datasets\n",
        "ranking.year.value_counts()"
      ],
      "execution_count": 23,
      "outputs": [
        {
          "output_type": "execute_result",
          "data": {
            "text/plain": [
              "2017    2532\n",
              "2016    2518\n",
              "2014    2508\n",
              "2015    2508\n",
              "2013    2508\n",
              "2012    2501\n",
              "2007    2489\n",
              "2011    2484\n",
              "2009    2484\n",
              "2008    2484\n",
              "2005    2461\n",
              "2004    2455\n",
              "2003    2450\n",
              "2001    2436\n",
              "2000    2429\n",
              "1999    2416\n",
              "2010    2277\n",
              "2006    2259\n",
              "2002    2233\n",
              "1998    1938\n",
              "1997    1916\n",
              "1996    1847\n",
              "1995    1792\n",
              "1994    1728\n",
              "2018    1266\n",
              "1993     837\n",
              "Name: year, dtype: int64"
            ]
          },
          "metadata": {
            "tags": []
          },
          "execution_count": 23
        }
      ]
    },
    {
      "cell_type": "code",
      "metadata": {
        "colab": {
          "base_uri": "https://localhost:8080/"
        },
        "id": "d0pMvW2TIH_Q",
        "outputId": "5dc9d5de-274c-4335-fcd3-0024efbe792f"
      },
      "source": [
        "#value counts for year column in results dataset\n",
        "results.year.value_counts()"
      ],
      "execution_count": 24,
      "outputs": [
        {
          "output_type": "execute_result",
          "data": {
            "text/plain": [
              "2008    1091\n",
              "2011    1081\n",
              "2004    1064\n",
              "2000    1026\n",
              "2001    1018\n",
              "        ... \n",
              "1877       2\n",
              "1875       1\n",
              "1874       1\n",
              "1872       1\n",
              "1873       1\n",
              "Name: year, Length: 148, dtype: int64"
            ]
          },
          "metadata": {
            "tags": []
          },
          "execution_count": 24
        }
      ]
    },
    {
      "cell_type": "markdown",
      "metadata": {
        "id": "zNUcZIjzIVBt"
      },
      "source": [
        "* The years in the ranking dataset dont have records beyond 1993"
      ]
    },
    {
      "cell_type": "code",
      "metadata": {
        "colab": {
          "base_uri": "https://localhost:8080/"
        },
        "id": "fckLt5AjIfa5",
        "outputId": "208063e0-90b2-491e-dd58-ba2bc0ea7fbd"
      },
      "source": [
        "#creating a new dataset with records of 1993 and above for results dataset\n",
        "results_new = results[results['year'] > 1992]\n",
        "results_new['year'].unique"
      ],
      "execution_count": 25,
      "outputs": [
        {
          "output_type": "execute_result",
          "data": {
            "text/plain": [
              "<bound method Series.unique of 17361    1993\n",
              "17362    1993\n",
              "17363    1993\n",
              "17364    1993\n",
              "17365    1993\n",
              "         ... \n",
              "40834    2019\n",
              "40835    2019\n",
              "40836    2019\n",
              "40837    2019\n",
              "40838    2019\n",
              "Name: year, Length: 23478, dtype: int64>"
            ]
          },
          "metadata": {
            "tags": []
          },
          "execution_count": 25
        }
      ]
    },
    {
      "cell_type": "code",
      "metadata": {
        "colab": {
          "base_uri": "https://localhost:8080/"
        },
        "id": "WP8U9k0xJBd0",
        "outputId": "3b5a2067-eea8-4f93-ab09-7ee56a2e8d8d"
      },
      "source": [
        "results_new.shape"
      ],
      "execution_count": 26,
      "outputs": [
        {
          "output_type": "execute_result",
          "data": {
            "text/plain": [
              "(23478, 10)"
            ]
          },
          "metadata": {
            "tags": []
          },
          "execution_count": 26
        }
      ]
    },
    {
      "cell_type": "markdown",
      "metadata": {
        "id": "tDOcIKlEy0Fm"
      },
      "source": [
        "> Inner join,matching only values similar to both datasets to obtain a home_team rank column"
      ]
    },
    {
      "cell_type": "code",
      "metadata": {
        "colab": {
          "base_uri": "https://localhost:8080/",
          "height": 163
        },
        "id": "78tLImcQFevR",
        "outputId": "7087d408-3607-418c-8741-5cd9bd98e39f"
      },
      "source": [
        "#merging the two datasets\n",
        "home_data = pd.merge(ranking,results, how='inner' ,left_on=['year','country_full'],right_on=['year','home_team'])\n",
        "home_data.rename({'rank':'home_rank'},axis=1,inplace=True)\n",
        "home_data= home_data.drop(columns=['country_abrv','cur_year_avg_weighted', 'last_year_avg', 'last_year_avg_weighted',\n",
        "       'two_year_ago_avg', 'two_year_ago_weighted', 'cur_year_avg','three_year_ago_avg',\n",
        "       'three_year_ago_weighted'],axis=1)\n",
        "home_data.head(2)\n"
      ],
      "execution_count": 27,
      "outputs": [
        {
          "output_type": "execute_result",
          "data": {
            "text/html": [
              "<div>\n",
              "<style scoped>\n",
              "    .dataframe tbody tr th:only-of-type {\n",
              "        vertical-align: middle;\n",
              "    }\n",
              "\n",
              "    .dataframe tbody tr th {\n",
              "        vertical-align: top;\n",
              "    }\n",
              "\n",
              "    .dataframe thead th {\n",
              "        text-align: right;\n",
              "    }\n",
              "</style>\n",
              "<table border=\"1\" class=\"dataframe\">\n",
              "  <thead>\n",
              "    <tr style=\"text-align: right;\">\n",
              "      <th></th>\n",
              "      <th>home_rank</th>\n",
              "      <th>country_full</th>\n",
              "      <th>total_points</th>\n",
              "      <th>previous_points</th>\n",
              "      <th>rank_change</th>\n",
              "      <th>confederation</th>\n",
              "      <th>year</th>\n",
              "      <th>date</th>\n",
              "      <th>home_team</th>\n",
              "      <th>away_team</th>\n",
              "      <th>home_score</th>\n",
              "      <th>away_score</th>\n",
              "      <th>tournament</th>\n",
              "      <th>city</th>\n",
              "      <th>country</th>\n",
              "      <th>neutral</th>\n",
              "    </tr>\n",
              "  </thead>\n",
              "  <tbody>\n",
              "    <tr>\n",
              "      <th>0</th>\n",
              "      <td>1</td>\n",
              "      <td>Germany</td>\n",
              "      <td>0.0</td>\n",
              "      <td>57</td>\n",
              "      <td>0</td>\n",
              "      <td>UEFA</td>\n",
              "      <td>1993</td>\n",
              "      <td>1993-04-14</td>\n",
              "      <td>Germany</td>\n",
              "      <td>Ghana</td>\n",
              "      <td>6</td>\n",
              "      <td>1</td>\n",
              "      <td>Friendly</td>\n",
              "      <td>Bochum</td>\n",
              "      <td>Germany</td>\n",
              "      <td>False</td>\n",
              "    </tr>\n",
              "    <tr>\n",
              "      <th>1</th>\n",
              "      <td>1</td>\n",
              "      <td>Germany</td>\n",
              "      <td>0.0</td>\n",
              "      <td>57</td>\n",
              "      <td>0</td>\n",
              "      <td>UEFA</td>\n",
              "      <td>1993</td>\n",
              "      <td>1993-10-13</td>\n",
              "      <td>Germany</td>\n",
              "      <td>Uruguay</td>\n",
              "      <td>5</td>\n",
              "      <td>0</td>\n",
              "      <td>Friendly</td>\n",
              "      <td>Karlsruhe</td>\n",
              "      <td>Germany</td>\n",
              "      <td>False</td>\n",
              "    </tr>\n",
              "  </tbody>\n",
              "</table>\n",
              "</div>"
            ],
            "text/plain": [
              "   home_rank country_full  total_points  ...       city  country neutral\n",
              "0          1      Germany           0.0  ...     Bochum  Germany   False\n",
              "1          1      Germany           0.0  ...  Karlsruhe  Germany   False\n",
              "\n",
              "[2 rows x 16 columns]"
            ]
          },
          "metadata": {
            "tags": []
          },
          "execution_count": 27
        }
      ]
    },
    {
      "cell_type": "markdown",
      "metadata": {
        "id": "-vDd1_sF0I-I"
      },
      "source": [
        "> Second inner join in order to create away_rank"
      ]
    },
    {
      "cell_type": "code",
      "metadata": {
        "colab": {
          "base_uri": "https://localhost:8080/",
          "height": 305
        },
        "id": "MdrAq0K_0ZMU",
        "outputId": "9c1ceec4-7b7b-4c01-affc-639cbf6bd05e"
      },
      "source": [
        "#merging the two datasets\n",
        "away_data = pd.merge(ranking,results, how='inner' ,left_on=['year','country_full'],right_on=['year','away_team'])\n",
        "away_data.rename({'rank':'away_rank'},axis=1,inplace=True)\n",
        "away_data = away_data.drop(columns=['country_abrv','cur_year_avg_weighted','cur_year_avg', 'last_year_avg', 'last_year_avg_weighted',\n",
        "       'two_year_ago_avg', 'two_year_ago_weighted', 'three_year_ago_avg',\n",
        "      'three_year_ago_weighted'],axis=1)\n",
        "away_data.head()\n"
      ],
      "execution_count": 28,
      "outputs": [
        {
          "output_type": "execute_result",
          "data": {
            "text/html": [
              "<div>\n",
              "<style scoped>\n",
              "    .dataframe tbody tr th:only-of-type {\n",
              "        vertical-align: middle;\n",
              "    }\n",
              "\n",
              "    .dataframe tbody tr th {\n",
              "        vertical-align: top;\n",
              "    }\n",
              "\n",
              "    .dataframe thead th {\n",
              "        text-align: right;\n",
              "    }\n",
              "</style>\n",
              "<table border=\"1\" class=\"dataframe\">\n",
              "  <thead>\n",
              "    <tr style=\"text-align: right;\">\n",
              "      <th></th>\n",
              "      <th>away_rank</th>\n",
              "      <th>country_full</th>\n",
              "      <th>total_points</th>\n",
              "      <th>previous_points</th>\n",
              "      <th>rank_change</th>\n",
              "      <th>confederation</th>\n",
              "      <th>year</th>\n",
              "      <th>date</th>\n",
              "      <th>home_team</th>\n",
              "      <th>away_team</th>\n",
              "      <th>home_score</th>\n",
              "      <th>away_score</th>\n",
              "      <th>tournament</th>\n",
              "      <th>city</th>\n",
              "      <th>country</th>\n",
              "      <th>neutral</th>\n",
              "    </tr>\n",
              "  </thead>\n",
              "  <tbody>\n",
              "    <tr>\n",
              "      <th>0</th>\n",
              "      <td>1</td>\n",
              "      <td>Germany</td>\n",
              "      <td>0.0</td>\n",
              "      <td>57</td>\n",
              "      <td>0</td>\n",
              "      <td>UEFA</td>\n",
              "      <td>1993</td>\n",
              "      <td>1993-03-24</td>\n",
              "      <td>Scotland</td>\n",
              "      <td>Germany</td>\n",
              "      <td>0</td>\n",
              "      <td>1</td>\n",
              "      <td>Friendly</td>\n",
              "      <td>Glasgow</td>\n",
              "      <td>Scotland</td>\n",
              "      <td>False</td>\n",
              "    </tr>\n",
              "    <tr>\n",
              "      <th>1</th>\n",
              "      <td>1</td>\n",
              "      <td>Germany</td>\n",
              "      <td>0.0</td>\n",
              "      <td>57</td>\n",
              "      <td>0</td>\n",
              "      <td>UEFA</td>\n",
              "      <td>1993</td>\n",
              "      <td>1993-06-10</td>\n",
              "      <td>Brazil</td>\n",
              "      <td>Germany</td>\n",
              "      <td>3</td>\n",
              "      <td>3</td>\n",
              "      <td>USA Cup</td>\n",
              "      <td>Washington</td>\n",
              "      <td>United States</td>\n",
              "      <td>True</td>\n",
              "    </tr>\n",
              "    <tr>\n",
              "      <th>2</th>\n",
              "      <td>1</td>\n",
              "      <td>Germany</td>\n",
              "      <td>0.0</td>\n",
              "      <td>57</td>\n",
              "      <td>0</td>\n",
              "      <td>UEFA</td>\n",
              "      <td>1993</td>\n",
              "      <td>1993-06-13</td>\n",
              "      <td>United States</td>\n",
              "      <td>Germany</td>\n",
              "      <td>3</td>\n",
              "      <td>4</td>\n",
              "      <td>USA Cup</td>\n",
              "      <td>Chicago</td>\n",
              "      <td>United States</td>\n",
              "      <td>False</td>\n",
              "    </tr>\n",
              "    <tr>\n",
              "      <th>3</th>\n",
              "      <td>1</td>\n",
              "      <td>Germany</td>\n",
              "      <td>0.0</td>\n",
              "      <td>57</td>\n",
              "      <td>0</td>\n",
              "      <td>UEFA</td>\n",
              "      <td>1993</td>\n",
              "      <td>1993-06-19</td>\n",
              "      <td>England</td>\n",
              "      <td>Germany</td>\n",
              "      <td>1</td>\n",
              "      <td>2</td>\n",
              "      <td>USA Cup</td>\n",
              "      <td>Pontiac</td>\n",
              "      <td>United States</td>\n",
              "      <td>True</td>\n",
              "    </tr>\n",
              "    <tr>\n",
              "      <th>4</th>\n",
              "      <td>1</td>\n",
              "      <td>Germany</td>\n",
              "      <td>0.0</td>\n",
              "      <td>57</td>\n",
              "      <td>0</td>\n",
              "      <td>UEFA</td>\n",
              "      <td>1993</td>\n",
              "      <td>1993-09-22</td>\n",
              "      <td>Tunisia</td>\n",
              "      <td>Germany</td>\n",
              "      <td>1</td>\n",
              "      <td>1</td>\n",
              "      <td>Friendly</td>\n",
              "      <td>Tunis</td>\n",
              "      <td>Tunisia</td>\n",
              "      <td>False</td>\n",
              "    </tr>\n",
              "  </tbody>\n",
              "</table>\n",
              "</div>"
            ],
            "text/plain": [
              "   away_rank country_full  total_points  ...        city        country neutral\n",
              "0          1      Germany           0.0  ...     Glasgow       Scotland   False\n",
              "1          1      Germany           0.0  ...  Washington  United States    True\n",
              "2          1      Germany           0.0  ...     Chicago  United States   False\n",
              "3          1      Germany           0.0  ...     Pontiac  United States    True\n",
              "4          1      Germany           0.0  ...       Tunis        Tunisia   False\n",
              "\n",
              "[5 rows x 16 columns]"
            ]
          },
          "metadata": {
            "tags": []
          },
          "execution_count": 28
        }
      ]
    },
    {
      "cell_type": "code",
      "metadata": {
        "colab": {
          "base_uri": "https://localhost:8080/",
          "height": 163
        },
        "id": "NA8Wex834pfU",
        "outputId": "c5a9b9cd-413c-48a2-c2dc-92641ba8b3e0"
      },
      "source": [
        "#Merging the two datasets \n",
        "fifa= pd.merge(home_data,away_data, how='inner' ,left_on=['year','country_full'],right_on=['year','country_full'])\n",
        "fifa.head(2)\n"
      ],
      "execution_count": 29,
      "outputs": [
        {
          "output_type": "execute_result",
          "data": {
            "text/html": [
              "<div>\n",
              "<style scoped>\n",
              "    .dataframe tbody tr th:only-of-type {\n",
              "        vertical-align: middle;\n",
              "    }\n",
              "\n",
              "    .dataframe tbody tr th {\n",
              "        vertical-align: top;\n",
              "    }\n",
              "\n",
              "    .dataframe thead th {\n",
              "        text-align: right;\n",
              "    }\n",
              "</style>\n",
              "<table border=\"1\" class=\"dataframe\">\n",
              "  <thead>\n",
              "    <tr style=\"text-align: right;\">\n",
              "      <th></th>\n",
              "      <th>home_rank</th>\n",
              "      <th>country_full</th>\n",
              "      <th>total_points_x</th>\n",
              "      <th>previous_points_x</th>\n",
              "      <th>rank_change_x</th>\n",
              "      <th>confederation_x</th>\n",
              "      <th>year</th>\n",
              "      <th>date_x</th>\n",
              "      <th>home_team_x</th>\n",
              "      <th>away_team_x</th>\n",
              "      <th>home_score_x</th>\n",
              "      <th>away_score_x</th>\n",
              "      <th>tournament_x</th>\n",
              "      <th>city_x</th>\n",
              "      <th>country_x</th>\n",
              "      <th>neutral_x</th>\n",
              "      <th>away_rank</th>\n",
              "      <th>total_points_y</th>\n",
              "      <th>previous_points_y</th>\n",
              "      <th>rank_change_y</th>\n",
              "      <th>confederation_y</th>\n",
              "      <th>date_y</th>\n",
              "      <th>home_team_y</th>\n",
              "      <th>away_team_y</th>\n",
              "      <th>home_score_y</th>\n",
              "      <th>away_score_y</th>\n",
              "      <th>tournament_y</th>\n",
              "      <th>city_y</th>\n",
              "      <th>country_y</th>\n",
              "      <th>neutral_y</th>\n",
              "    </tr>\n",
              "  </thead>\n",
              "  <tbody>\n",
              "    <tr>\n",
              "      <th>0</th>\n",
              "      <td>1</td>\n",
              "      <td>Germany</td>\n",
              "      <td>0.0</td>\n",
              "      <td>57</td>\n",
              "      <td>0</td>\n",
              "      <td>UEFA</td>\n",
              "      <td>1993</td>\n",
              "      <td>1993-04-14</td>\n",
              "      <td>Germany</td>\n",
              "      <td>Ghana</td>\n",
              "      <td>6</td>\n",
              "      <td>1</td>\n",
              "      <td>Friendly</td>\n",
              "      <td>Bochum</td>\n",
              "      <td>Germany</td>\n",
              "      <td>False</td>\n",
              "      <td>1</td>\n",
              "      <td>0.0</td>\n",
              "      <td>57</td>\n",
              "      <td>0</td>\n",
              "      <td>UEFA</td>\n",
              "      <td>1993-03-24</td>\n",
              "      <td>Scotland</td>\n",
              "      <td>Germany</td>\n",
              "      <td>0</td>\n",
              "      <td>1</td>\n",
              "      <td>Friendly</td>\n",
              "      <td>Glasgow</td>\n",
              "      <td>Scotland</td>\n",
              "      <td>False</td>\n",
              "    </tr>\n",
              "    <tr>\n",
              "      <th>1</th>\n",
              "      <td>1</td>\n",
              "      <td>Germany</td>\n",
              "      <td>0.0</td>\n",
              "      <td>57</td>\n",
              "      <td>0</td>\n",
              "      <td>UEFA</td>\n",
              "      <td>1993</td>\n",
              "      <td>1993-04-14</td>\n",
              "      <td>Germany</td>\n",
              "      <td>Ghana</td>\n",
              "      <td>6</td>\n",
              "      <td>1</td>\n",
              "      <td>Friendly</td>\n",
              "      <td>Bochum</td>\n",
              "      <td>Germany</td>\n",
              "      <td>False</td>\n",
              "      <td>1</td>\n",
              "      <td>0.0</td>\n",
              "      <td>57</td>\n",
              "      <td>0</td>\n",
              "      <td>UEFA</td>\n",
              "      <td>1993-06-10</td>\n",
              "      <td>Brazil</td>\n",
              "      <td>Germany</td>\n",
              "      <td>3</td>\n",
              "      <td>3</td>\n",
              "      <td>USA Cup</td>\n",
              "      <td>Washington</td>\n",
              "      <td>United States</td>\n",
              "      <td>True</td>\n",
              "    </tr>\n",
              "  </tbody>\n",
              "</table>\n",
              "</div>"
            ],
            "text/plain": [
              "   home_rank country_full  total_points_x  ...      city_y      country_y neutral_y\n",
              "0          1      Germany             0.0  ...     Glasgow       Scotland     False\n",
              "1          1      Germany             0.0  ...  Washington  United States      True\n",
              "\n",
              "[2 rows x 30 columns]"
            ]
          },
          "metadata": {
            "tags": []
          },
          "execution_count": 29
        }
      ]
    },
    {
      "cell_type": "code",
      "metadata": {
        "id": "ObebnqAKAD_K"
      },
      "source": [
        "#fifa = fifa.drop(columns=['total_points_x','previous_points_x',\n",
        "       'rank_change_x', 'confederation_x','date_x', 'home_team_x',\n",
        "       'away_team_x', 'home_score_x', 'away_score_x', 'tournament_x', 'city_x','city_y', 'date_x','date_y'],axis=1)"
      ],
      "execution_count": 51,
      "outputs": []
    },
    {
      "cell_type": "code",
      "metadata": {
        "colab": {
          "base_uri": "https://localhost:8080/"
        },
        "id": "sNBC9WvlLZRq",
        "outputId": "144bd152-a28d-4b62-cdf4-70fc590237ef"
      },
      "source": [
        "#Null values\n",
        "fifa.isnull().sum().sum()"
      ],
      "execution_count": 32,
      "outputs": [
        {
          "output_type": "execute_result",
          "data": {
            "text/plain": [
              "0"
            ]
          },
          "metadata": {
            "tags": []
          },
          "execution_count": 32
        }
      ]
    },
    {
      "cell_type": "markdown",
      "metadata": {
        "id": "GoNvzXlRLwYU"
      },
      "source": [
        "No null values in the new merged dataset(Fifa)"
      ]
    },
    {
      "cell_type": "code",
      "metadata": {
        "colab": {
          "base_uri": "https://localhost:8080/"
        },
        "id": "1QCplWt3Lnlx",
        "outputId": "39ff9ad8-5a67-46a0-d191-2f1a9e553b2c"
      },
      "source": [
        "#checking for duplicates\n",
        "#fifa.duplicated().sum()\n",
        "fifa = fifa.drop_duplicates()\n",
        "fifa.duplicated().any()\n",
        "fifa.shape"
      ],
      "execution_count": 39,
      "outputs": [
        {
          "output_type": "execute_result",
          "data": {
            "text/plain": [
              "(2988822, 17)"
            ]
          },
          "metadata": {
            "tags": []
          },
          "execution_count": 39
        }
      ]
    },
    {
      "cell_type": "markdown",
      "metadata": {
        "id": "y0GkEjDfIClv"
      },
      "source": [
        "The fifa dataset has 2988822 records and 17 columns"
      ]
    },
    {
      "cell_type": "code",
      "metadata": {
        "colab": {
          "base_uri": "https://localhost:8080/"
        },
        "id": "FZmo8N1cIz3y",
        "outputId": "17ba6484-7342-423f-cdee-815fe0d46d33"
      },
      "source": [
        "fifa.columns"
      ],
      "execution_count": 48,
      "outputs": [
        {
          "output_type": "execute_result",
          "data": {
            "text/plain": [
              "Index(['home_rank', 'country_full', 'year', 'country_x', 'neutral_x',\n",
              "       'away_rank', 'total_points_y', 'previous_points_y', 'rank_change_y',\n",
              "       'confederation_y', 'home_team_y', 'away_team_y', 'home_score_y',\n",
              "       'away_score_y', 'tournament_y', 'country_y', 'neutral_y'],\n",
              "      dtype='object')"
            ]
          },
          "metadata": {
            "tags": []
          },
          "execution_count": 48
        }
      ]
    },
    {
      "cell_type": "code",
      "metadata": {
        "colab": {
          "base_uri": "https://localhost:8080/",
          "height": 128
        },
        "id": "SsY0ctJ8Ipap",
        "outputId": "80548ffc-52af-412b-9415-0cc3c7d2e9bf"
      },
      "source": [
        "#renaming column names and dropping repeating columns\n",
        "#fifa.columns = fifa.columns.str.rstrip('_y')\n",
        "#fifa.rename(columns={'country_full':'country','ear':'year'})\n",
        "#fifa = fifa.drop(columns=['country_x','neutral_x'],axis=1)\n",
        "fifa.head(2)"
      ],
      "execution_count": 74,
      "outputs": [
        {
          "output_type": "execute_result",
          "data": {
            "text/html": [
              "<div>\n",
              "<style scoped>\n",
              "    .dataframe tbody tr th:only-of-type {\n",
              "        vertical-align: middle;\n",
              "    }\n",
              "\n",
              "    .dataframe tbody tr th {\n",
              "        vertical-align: top;\n",
              "    }\n",
              "\n",
              "    .dataframe thead th {\n",
              "        text-align: right;\n",
              "    }\n",
              "</style>\n",
              "<table border=\"1\" class=\"dataframe\">\n",
              "  <thead>\n",
              "    <tr style=\"text-align: right;\">\n",
              "      <th></th>\n",
              "      <th>home_rank</th>\n",
              "      <th>year</th>\n",
              "      <th>away_rank</th>\n",
              "      <th>total_points</th>\n",
              "      <th>previous_points</th>\n",
              "      <th>rank_change</th>\n",
              "      <th>confederation</th>\n",
              "      <th>home_team</th>\n",
              "      <th>away_team</th>\n",
              "      <th>home_score</th>\n",
              "      <th>away_score</th>\n",
              "      <th>tournament</th>\n",
              "      <th>neutral</th>\n",
              "    </tr>\n",
              "  </thead>\n",
              "  <tbody>\n",
              "    <tr>\n",
              "      <th>0</th>\n",
              "      <td>1</td>\n",
              "      <td>1993</td>\n",
              "      <td>1</td>\n",
              "      <td>0.0</td>\n",
              "      <td>57</td>\n",
              "      <td>0</td>\n",
              "      <td>UEFA</td>\n",
              "      <td>Scotland</td>\n",
              "      <td>Germany</td>\n",
              "      <td>0</td>\n",
              "      <td>1</td>\n",
              "      <td>Friendly</td>\n",
              "      <td>False</td>\n",
              "    </tr>\n",
              "    <tr>\n",
              "      <th>1</th>\n",
              "      <td>1</td>\n",
              "      <td>1993</td>\n",
              "      <td>1</td>\n",
              "      <td>0.0</td>\n",
              "      <td>57</td>\n",
              "      <td>0</td>\n",
              "      <td>UEFA</td>\n",
              "      <td>Brazil</td>\n",
              "      <td>Germany</td>\n",
              "      <td>3</td>\n",
              "      <td>3</td>\n",
              "      <td>USA Cup</td>\n",
              "      <td>True</td>\n",
              "    </tr>\n",
              "  </tbody>\n",
              "</table>\n",
              "</div>"
            ],
            "text/plain": [
              "   home_rank  year  away_rank  ...  away_score  tournament  neutral\n",
              "0          1  1993          1  ...           1    Friendly    False\n",
              "1          1  1993          1  ...           3     USA Cup     True\n",
              "\n",
              "[2 rows x 13 columns]"
            ]
          },
          "metadata": {
            "tags": []
          },
          "execution_count": 74
        }
      ]
    },
    {
      "cell_type": "markdown",
      "metadata": {
        "id": "rF2ABPsHUtbZ"
      },
      "source": [
        "## 6. Exploratory Analysis"
      ]
    },
    {
      "cell_type": "markdown",
      "metadata": {
        "id": "u1cYncSbzegn"
      },
      "source": [
        "#Univariate analysis"
      ]
    },
    {
      "cell_type": "markdown",
      "metadata": {
        "id": "uX5t6udOAHgM"
      },
      "source": [
        "> ### Histograms"
      ]
    },
    {
      "cell_type": "code",
      "metadata": {
        "id": "5nnRToniXGDK",
        "colab": {
          "base_uri": "https://localhost:8080/",
          "height": 301
        },
        "outputId": "651ac74b-b52b-45b6-a0f2-cd3268e7cb02"
      },
      "source": [
        "#plotting histogram for ranks\n",
        "fifa['home_rank'].plot.hist(grid=True, bins=10, rwidth=0.9, color='green')\n",
        "plt.title('rank',fontsize=15)"
      ],
      "execution_count": 44,
      "outputs": [
        {
          "output_type": "execute_result",
          "data": {
            "text/plain": [
              "Text(0.5, 1.0, 'rank')"
            ]
          },
          "metadata": {
            "tags": []
          },
          "execution_count": 44
        },
        {
          "output_type": "display_data",
          "data": {
            "image/png": "[encoded data removed]",
            "text/plain": [
              "<Figure size 432x288 with 1 Axes>"
            ]
          },
          "metadata": {
            "tags": [],
            "needs_background": "light"
          }
        }
      ]
    },
    {
      "cell_type": "code",
      "metadata": {
        "colab": {
          "base_uri": "https://localhost:8080/",
          "height": 301
        },
        "id": "AKVjhSCLIbBf",
        "outputId": "d860abfe-3c51-4ce2-a62d-2b468896b81c"
      },
      "source": [
        "#plotting histogram for away rank\n",
        "fifa['away_rank'].plot.hist(grid=True, bins=10, rwidth=0.9, color='green')\n",
        "plt.title('rank',fontsize=15)"
      ],
      "execution_count": 45,
      "outputs": [
        {
          "output_type": "execute_result",
          "data": {
            "text/plain": [
              "Text(0.5, 1.0, 'rank')"
            ]
          },
          "metadata": {
            "tags": []
          },
          "execution_count": 45
        },
        {
          "output_type": "display_data",
          "data": {
            "image/png": "[encoded data removed]",
            "text/plain": [
              "<Figure size 432x288 with 1 Axes>"
            ]
          },
          "metadata": {
            "tags": [],
            "needs_background": "light"
          }
        }
      ]
    },
    {
      "cell_type": "code",
      "metadata": {
        "colab": {
          "base_uri": "https://localhost:8080/",
          "height": 301
        },
        "id": "lfXFAqdG3WIr",
        "outputId": "e7387d78-671a-45e7-c028-ebc92e55bc7f"
      },
      "source": [
        "fifa['total_points_y'].plot.hist(grid=True, bins=10, rwidth=0.9,\n",
        "                   color='green')\n",
        "plt.title('Total points',fontsize=15)"
      ],
      "execution_count": 47,
      "outputs": [
        {
          "output_type": "execute_result",
          "data": {
            "text/plain": [
              "Text(0.5, 1.0, 'Total points')"
            ]
          },
          "metadata": {
            "tags": []
          },
          "execution_count": 47
        },
        {
          "output_type": "display_data",
          "data": {
            "image/png": "[encoded data removed]",
            "text/plain": [
              "<Figure size 432x288 with 1 Axes>"
            ]
          },
          "metadata": {
            "tags": [],
            "needs_background": "light"
          }
        }
      ]
    },
    {
      "cell_type": "code",
      "metadata": {
        "colab": {
          "base_uri": "https://localhost:8080/",
          "height": 301
        },
        "id": "3bXFFJME3mAl",
        "outputId": "1c759209-369d-4e1d-81c8-fcf3d54c3735"
      },
      "source": [
        "fifa['previous_points'].plot.hist(grid=True, bins=10, rwidth=0.9,\n",
        "                   color='green')\n",
        "plt.title('Previous points',fontsize=15)"
      ],
      "execution_count": 67,
      "outputs": [
        {
          "output_type": "execute_result",
          "data": {
            "text/plain": [
              "Text(0.5, 1.0, 'Previous points')"
            ]
          },
          "metadata": {
            "tags": []
          },
          "execution_count": 67
        },
        {
          "output_type": "display_data",
          "data": {
            "image/png": "[encoded data removed]",
            "text/plain": [
              "<Figure size 432x288 with 1 Axes>"
            ]
          },
          "metadata": {
            "tags": [],
            "needs_background": "light"
          }
        }
      ]
    },
    {
      "cell_type": "code",
      "metadata": {
        "colab": {
          "base_uri": "https://localhost:8080/",
          "height": 301
        },
        "id": "Gdpp44Jt3ykK",
        "outputId": "1c1846fc-2499-4507-d39e-1e722daf6b33"
      },
      "source": [
        "fifa['home_score'].plot.hist(grid=True, bins=10, rwidth=0.9,\n",
        "                   color='green')\n",
        "plt.title('Home score points',fontsize=15)"
      ],
      "execution_count": 68,
      "outputs": [
        {
          "output_type": "execute_result",
          "data": {
            "text/plain": [
              "Text(0.5, 1.0, 'Home score points')"
            ]
          },
          "metadata": {
            "tags": []
          },
          "execution_count": 68
        },
        {
          "output_type": "display_data",
          "data": {
            "image/png": "[encoded data removed]",
            "text/plain": [
              "<Figure size 432x288 with 1 Axes>"
            ]
          },
          "metadata": {
            "tags": [],
            "needs_background": "light"
          }
        }
      ]
    },
    {
      "cell_type": "code",
      "metadata": {
        "colab": {
          "base_uri": "https://localhost:8080/",
          "height": 301
        },
        "id": "YgkG7_3z3yih",
        "outputId": "0b2b8c05-33af-4332-a585-71d517887e02"
      },
      "source": [
        "fifa['away_score'].plot.hist(grid=True, bins=10, rwidth=0.9,\n",
        "                   color='green')\n",
        "plt.title('Away score points',fontsize=15)"
      ],
      "execution_count": 69,
      "outputs": [
        {
          "output_type": "execute_result",
          "data": {
            "text/plain": [
              "Text(0.5, 1.0, 'Away score points')"
            ]
          },
          "metadata": {
            "tags": []
          },
          "execution_count": 69
        },
        {
          "output_type": "display_data",
          "data": {
            "image/png": "[encoded data removed]",
            "text/plain": [
              "<Figure size 432x288 with 1 Axes>"
            ]
          },
          "metadata": {
            "tags": [],
            "needs_background": "light"
          }
        }
      ]
    },
    {
      "cell_type": "markdown",
      "metadata": {
        "id": "4yxKvdgyALzF"
      },
      "source": [
        "> ### Barplots"
      ]
    },
    {
      "cell_type": "code",
      "metadata": {
        "colab": {
          "base_uri": "https://localhost:8080/",
          "height": 319
        },
        "id": "dnL-AIe03yMB",
        "outputId": "a7359604-9894-4992-911f-d9226731f41a"
      },
      "source": [
        "sns.set_theme(style='darkgrid')\n",
        "sns.countplot(x='confederation',data=fifa)\n",
        "plt.title('Confederation',fontsize=12)"
      ],
      "execution_count": 70,
      "outputs": [
        {
          "output_type": "execute_result",
          "data": {
            "text/plain": [
              "Text(0.5, 1.0, 'Confederation')"
            ]
          },
          "metadata": {
            "tags": []
          },
          "execution_count": 70
        },
        {
          "output_type": "display_data",
          "data": {
            "image/png": "[encoded data removed]",
            "text/plain": [
              "<Figure size 432x288 with 1 Axes>"
            ]
          },
          "metadata": {
            "tags": []
          }
        }
      ]
    },
    {
      "cell_type": "code",
      "metadata": {
        "colab": {
          "base_uri": "https://localhost:8080/",
          "height": 319
        },
        "id": "ksnU9DCmCigp",
        "outputId": "dedb3d11-dee7-47e4-b96b-f3881c537b74"
      },
      "source": [
        "sns.set_theme(style='darkgrid')\n",
        "sns.countplot(x='neutral',data=fifa)\n",
        "plt.title('Neutral',fontsize=12)\n",
        "#from this countplot, majority of the grounds used for games were not \n",
        "#a neutral ground"
      ],
      "execution_count": 71,
      "outputs": [
        {
          "output_type": "execute_result",
          "data": {
            "text/plain": [
              "Text(0.5, 1.0, 'Neutral')"
            ]
          },
          "metadata": {
            "tags": []
          },
          "execution_count": 71
        },
        {
          "output_type": "display_data",
          "data": {
            "image/png": "[encoded data removed]",
            "text/plain": [
              "<Figure size 432x288 with 1 Axes>"
            ]
          },
          "metadata": {
            "tags": []
          }
        }
      ]
    },
    {
      "cell_type": "markdown",
      "metadata": {
        "id": "YCEzlQMc_jPD"
      },
      "source": [
        "> ### Frequency Tables"
      ]
    },
    {
      "cell_type": "code",
      "metadata": {
        "colab": {
          "base_uri": "https://localhost:8080/"
        },
        "id": "JGZOPTyw_uG7",
        "outputId": "67b1613d-e11d-478c-9329-fd1431b1e41f"
      },
      "source": [
        "#home United States has a record of46235\n",
        "#with the least Mynamar and Sint Martin\n",
        "fifa.home_team.value_counts()"
      ],
      "execution_count": 75,
      "outputs": [
        {
          "output_type": "execute_result",
          "data": {
            "text/plain": [
              "United States    46235\n",
              "Mexico           43358\n",
              "Saudi Arabia     40655\n",
              "Japan            37736\n",
              "Qatar            37466\n",
              "                 ...  \n",
              "Mayotte            132\n",
              "Palau               72\n",
              "Timor-Leste         72\n",
              "Myanmar             50\n",
              "Sint Maarten        22\n",
              "Name: home_team, Length: 238, dtype: int64"
            ]
          },
          "metadata": {
            "tags": []
          },
          "execution_count": 75
        }
      ]
    },
    {
      "cell_type": "code",
      "metadata": {
        "colab": {
          "base_uri": "https://localhost:8080/"
        },
        "id": "l9kfo1xZ_zI8",
        "outputId": "e94975dc-6ae2-4458-c76d-249118a50d1b"
      },
      "source": [
        "#away teams with the highest is Iraq\n",
        "#with the least being Gibraltar\n",
        "fifa.away_team.value_counts()"
      ],
      "execution_count": 76,
      "outputs": [
        {
          "output_type": "execute_result",
          "data": {
            "text/plain": [
              "Iraq                        65996\n",
              "Bahrain                     42682\n",
              "Zambia                      42004\n",
              "Kuwait                      41686\n",
              "Jamaica                     39006\n",
              "                            ...  \n",
              "Turks and Caicos Islands      408\n",
              "Montserrat                    291\n",
              "Myanmar                        96\n",
              "Timor-Leste                    64\n",
              "Gibraltar                      60\n",
              "Name: away_team, Length: 195, dtype: int64"
            ]
          },
          "metadata": {
            "tags": []
          },
          "execution_count": 76
        }
      ]
    },
    {
      "cell_type": "markdown",
      "metadata": {
        "id": "WoexdEJ_B95C"
      },
      "source": [
        "> ### Skewness"
      ]
    },
    {
      "cell_type": "code",
      "metadata": {
        "colab": {
          "base_uri": "https://localhost:8080/"
        },
        "id": "te9CbFKQB7-S",
        "outputId": "d843727c-cf2d-477a-8b40-00dcb083c013"
      },
      "source": [
        "#skewness in the numerical columns\n",
        "columns = fifa [['home_rank','away_rank','total_points','previous_points','rank_change']]\n",
        "\n",
        "y = {col:fifa[col].skew() for col in columns}\n",
        "y\n",
        "# values in previous points column is moderately skewed\n",
        "#rank is fairly symmetrical\n",
        "#total points and rank change is highly skewed"
      ],
      "execution_count": 78,
      "outputs": [
        {
          "output_type": "execute_result",
          "data": {
            "text/plain": [
              "{'away_rank': 0.4282936775062564,\n",
              " 'home_rank': 0.4258956782626513,\n",
              " 'previous_points': 0.6503918467563805,\n",
              " 'rank_change': 1.155118404886759,\n",
              " 'total_points': 1.9047542995815763}"
            ]
          },
          "metadata": {
            "tags": []
          },
          "execution_count": 78
        }
      ]
    },
    {
      "cell_type": "code",
      "metadata": {
        "colab": {
          "base_uri": "https://localhost:8080/"
        },
        "id": "tSfyZpV4EMl1",
        "outputId": "28a9aabc-7fb2-46e5-ce56-5ff1ec2e6cd7"
      },
      "source": [
        "columns = fifa [['home_rank','away_rank','total_points','previous_points','rank_change']]\n",
        "\n",
        "y = {col:fifa[col].kurt() for col in columns}\n",
        "y\n",
        "#rank column is platykurtic(negative distribution)\n",
        "#rank change, total points,previous points is leptokurtic(postive distribution)\n"
      ],
      "execution_count": 80,
      "outputs": [
        {
          "output_type": "execute_result",
          "data": {
            "text/plain": [
              "{'away_rank': -0.588612004532139,\n",
              " 'home_rank': -0.593471692003428,\n",
              " 'previous_points': 0.8443366769798213,\n",
              " 'rank_change': 14.303508100300238,\n",
              " 'total_points': 3.30799774486666}"
            ]
          },
          "metadata": {
            "tags": []
          },
          "execution_count": 80
        }
      ]
    },
    {
      "cell_type": "markdown",
      "metadata": {
        "id": "mDGN5RqbBVUq"
      },
      "source": [
        "### Observations\n",
        "* "
      ]
    },
    {
      "cell_type": "markdown",
      "metadata": {
        "id": "aL_hn8EyIOlo"
      },
      "source": [
        "## Bivariate Analysis"
      ]
    },
    {
      "cell_type": "markdown",
      "metadata": {
        "id": "UKWqNz3NJL3k"
      },
      "source": [
        "> ### Correlation matrix"
      ]
    },
    {
      "cell_type": "code",
      "metadata": {
        "colab": {
          "base_uri": "https://localhost:8080/",
          "height": 963
        },
        "id": "LJJw30e1IYFW",
        "outputId": "0eeb545d-a690-4079-9701-6115de8f9f18"
      },
      "source": [
        "corr = fifa.corr()\n",
        "plt.figure(figsize=(14,15))\n",
        "sns.heatmap(corr,xticklabels=corr.columns,yticklabels=corr.columns,linewidth=2.0,annot=True)\n",
        "plt.title('Correlation for the numerical variables',fontsize=18)\n",
        "plt.show()"
      ],
      "execution_count": 81,
      "outputs": [
        {
          "output_type": "display_data",
          "data": {
            "image/png": "[encoded data removed]",
            "text/plain": [
              "<Figure size 1008x1080 with 2 Axes>"
            ]
          },
          "metadata": {
            "tags": []
          }
        }
      ]
    },
    {
      "cell_type": "markdown",
      "metadata": {
        "id": "uYveB87dJzGU"
      },
      "source": [
        "* Home rank and year change have a high correlation"
      ]
    },
    {
      "cell_type": "markdown",
      "metadata": {
        "id": "vTbdjSrhVIiT"
      },
      "source": [
        "## 7. Implementing the Solution"
      ]
    },
    {
      "cell_type": "markdown",
      "metadata": {
        "id": "BMxm5N7mSfZZ"
      },
      "source": [
        "## Feature Engineering"
      ]
    },
    {
      "cell_type": "markdown",
      "metadata": {
        "id": "ykGsvbCMzy-Q"
      },
      "source": [
        "### Creating new columns\n",
        " which will rate the game based on the home team's perspective as:\n",
        "* Win\n",
        "* Loss\n",
        "* Draw"
      ]
    },
    {
      "cell_type": "code",
      "metadata": {
        "id": "PJLZaRzJXJ3w"
      },
      "source": [
        "#creating a column based on the home team's perspective if the\n",
        "#scores are a win, loss or draw\n",
        "def score_rating(cols):\n",
        "  home_score = cols[0]\n",
        "  away_score = cols[1]\n",
        "  if home_score > away_score:\n",
        "        return 'Win'\n",
        "  elif home_score < away_score:\n",
        "        return 'Loss'\n",
        "  else:\n",
        "        return 'Draw'\n",
        "      \n",
        "fifa['status'] = fifa[['home_score','away_score']].apply( score_rating,axis=1)\n",
        "    "
      ],
      "execution_count": 82,
      "outputs": []
    },
    {
      "cell_type": "code",
      "metadata": {
        "colab": {
          "base_uri": "https://localhost:8080/"
        },
        "id": "rWuhKtieyYVZ",
        "outputId": "4157d24d-ab1c-465f-9796-e89887efe152"
      },
      "source": [
        "#confirming the values within the status column\n",
        "fifa['status'].unique()"
      ],
      "execution_count": 83,
      "outputs": [
        {
          "output_type": "execute_result",
          "data": {
            "text/plain": [
              "array(['Loss', 'Draw', 'Win'], dtype=object)"
            ]
          },
          "metadata": {
            "tags": []
          },
          "execution_count": 83
        }
      ]
    },
    {
      "cell_type": "code",
      "metadata": {
        "colab": {
          "base_uri": "https://localhost:8080/"
        },
        "id": "-8FVp3F2-_D3",
        "outputId": "ccf01c61-f9fb-48b6-f4c3-00551b5c3b3f"
      },
      "source": [
        "#finding the unique varaibles within the tournament column\n",
        "fifa['tournament'].nunique()"
      ],
      "execution_count": 86,
      "outputs": [
        {
          "output_type": "execute_result",
          "data": {
            "text/plain": [
              "69"
            ]
          },
          "metadata": {
            "tags": []
          },
          "execution_count": 86
        }
      ]
    },
    {
      "cell_type": "code",
      "metadata": {
        "colab": {
          "base_uri": "https://localhost:8080/",
          "height": 128
        },
        "id": "OF6iuceS_arz",
        "outputId": "5fa6aa0c-a0d6-4f04-c955-762a117bd84a"
      },
      "source": [
        "def game_type(cols):\n",
        "  tournament= cols[0]\n",
        "  if tournament == 'Fifa World Cup':\n",
        "        return 'World Cup'\n",
        "  elif tournament == 'Friendly':\n",
        "        return 'Friendly'\n",
        "  else:\n",
        "        return 'Other'\n",
        "      \n",
        "fifa['tournament_type'] = fifa[['tournament']].apply( game_type,axis=1)\n",
        "#previewing the changes made\n",
        "fifa.head(2)  "
      ],
      "execution_count": 87,
      "outputs": [
        {
          "output_type": "execute_result",
          "data": {
            "text/html": [
              "<div>\n",
              "<style scoped>\n",
              "    .dataframe tbody tr th:only-of-type {\n",
              "        vertical-align: middle;\n",
              "    }\n",
              "\n",
              "    .dataframe tbody tr th {\n",
              "        vertical-align: top;\n",
              "    }\n",
              "\n",
              "    .dataframe thead th {\n",
              "        text-align: right;\n",
              "    }\n",
              "</style>\n",
              "<table border=\"1\" class=\"dataframe\">\n",
              "  <thead>\n",
              "    <tr style=\"text-align: right;\">\n",
              "      <th></th>\n",
              "      <th>home_rank</th>\n",
              "      <th>year</th>\n",
              "      <th>away_rank</th>\n",
              "      <th>total_points</th>\n",
              "      <th>previous_points</th>\n",
              "      <th>rank_change</th>\n",
              "      <th>confederation</th>\n",
              "      <th>home_team</th>\n",
              "      <th>away_team</th>\n",
              "      <th>home_score</th>\n",
              "      <th>away_score</th>\n",
              "      <th>tournament</th>\n",
              "      <th>neutral</th>\n",
              "      <th>status</th>\n",
              "      <th>tournament_type</th>\n",
              "    </tr>\n",
              "  </thead>\n",
              "  <tbody>\n",
              "    <tr>\n",
              "      <th>0</th>\n",
              "      <td>1</td>\n",
              "      <td>1993</td>\n",
              "      <td>1</td>\n",
              "      <td>0.0</td>\n",
              "      <td>57</td>\n",
              "      <td>0</td>\n",
              "      <td>UEFA</td>\n",
              "      <td>Scotland</td>\n",
              "      <td>Germany</td>\n",
              "      <td>0</td>\n",
              "      <td>1</td>\n",
              "      <td>Friendly</td>\n",
              "      <td>False</td>\n",
              "      <td>Loss</td>\n",
              "      <td>Friendly</td>\n",
              "    </tr>\n",
              "    <tr>\n",
              "      <th>1</th>\n",
              "      <td>1</td>\n",
              "      <td>1993</td>\n",
              "      <td>1</td>\n",
              "      <td>0.0</td>\n",
              "      <td>57</td>\n",
              "      <td>0</td>\n",
              "      <td>UEFA</td>\n",
              "      <td>Brazil</td>\n",
              "      <td>Germany</td>\n",
              "      <td>3</td>\n",
              "      <td>3</td>\n",
              "      <td>USA Cup</td>\n",
              "      <td>True</td>\n",
              "      <td>Draw</td>\n",
              "      <td>Other</td>\n",
              "    </tr>\n",
              "  </tbody>\n",
              "</table>\n",
              "</div>"
            ],
            "text/plain": [
              "   home_rank  year  away_rank  ...  neutral  status  tournament_type\n",
              "0          1  1993          1  ...    False    Loss         Friendly\n",
              "1          1  1993          1  ...     True    Draw            Other\n",
              "\n",
              "[2 rows x 15 columns]"
            ]
          },
          "metadata": {
            "tags": []
          },
          "execution_count": 87
        }
      ]
    },
    {
      "cell_type": "code",
      "metadata": {
        "id": "ZrRbMXcDAbGC"
      },
      "source": [
        "#dropping the tournament column\n",
        "fifa = fifa.drop(columns=['tournament'],axis=1)"
      ],
      "execution_count": 88,
      "outputs": []
    },
    {
      "cell_type": "markdown",
      "metadata": {
        "id": "69AWyt3ypULA"
      },
      "source": [
        "### Label encoding categorical variables"
      ]
    },
    {
      "cell_type": "code",
      "metadata": {
        "id": "Jd7Mp78sk9QF"
      },
      "source": [
        "#changing the varaibles to dummy variables\n",
        "from sklearn.preprocessing import LabelEncoder\n",
        "labelencode = LabelEncoder()\n",
        "fifa['tournament_type'] = labelencode.fit_transform(fifa['tournament_type'])\n",
        "fifa['neutral'] = labelencode.fit_transform(fifa['neutral'])\n"
      ],
      "execution_count": 90,
      "outputs": []
    },
    {
      "cell_type": "code",
      "metadata": {
        "colab": {
          "base_uri": "https://localhost:8080/",
          "height": 128
        },
        "id": "o3CjQML2n9Sm",
        "outputId": "17a3a42c-273e-4ae0-b42a-00686904c74b"
      },
      "source": [
        "#viewing the changes\n",
        "fifa.head(2)"
      ],
      "execution_count": 92,
      "outputs": [
        {
          "output_type": "execute_result",
          "data": {
            "text/html": [
              "<div>\n",
              "<style scoped>\n",
              "    .dataframe tbody tr th:only-of-type {\n",
              "        vertical-align: middle;\n",
              "    }\n",
              "\n",
              "    .dataframe tbody tr th {\n",
              "        vertical-align: top;\n",
              "    }\n",
              "\n",
              "    .dataframe thead th {\n",
              "        text-align: right;\n",
              "    }\n",
              "</style>\n",
              "<table border=\"1\" class=\"dataframe\">\n",
              "  <thead>\n",
              "    <tr style=\"text-align: right;\">\n",
              "      <th></th>\n",
              "      <th>home_rank</th>\n",
              "      <th>year</th>\n",
              "      <th>away_rank</th>\n",
              "      <th>total_points</th>\n",
              "      <th>previous_points</th>\n",
              "      <th>rank_change</th>\n",
              "      <th>confederation</th>\n",
              "      <th>home_team</th>\n",
              "      <th>away_team</th>\n",
              "      <th>home_score</th>\n",
              "      <th>away_score</th>\n",
              "      <th>neutral</th>\n",
              "      <th>status</th>\n",
              "      <th>tournament_type</th>\n",
              "    </tr>\n",
              "  </thead>\n",
              "  <tbody>\n",
              "    <tr>\n",
              "      <th>0</th>\n",
              "      <td>1</td>\n",
              "      <td>1993</td>\n",
              "      <td>1</td>\n",
              "      <td>0.0</td>\n",
              "      <td>57</td>\n",
              "      <td>0</td>\n",
              "      <td>UEFA</td>\n",
              "      <td>Scotland</td>\n",
              "      <td>Germany</td>\n",
              "      <td>0</td>\n",
              "      <td>1</td>\n",
              "      <td>0</td>\n",
              "      <td>Loss</td>\n",
              "      <td>0</td>\n",
              "    </tr>\n",
              "    <tr>\n",
              "      <th>1</th>\n",
              "      <td>1</td>\n",
              "      <td>1993</td>\n",
              "      <td>1</td>\n",
              "      <td>0.0</td>\n",
              "      <td>57</td>\n",
              "      <td>0</td>\n",
              "      <td>UEFA</td>\n",
              "      <td>Brazil</td>\n",
              "      <td>Germany</td>\n",
              "      <td>3</td>\n",
              "      <td>3</td>\n",
              "      <td>1</td>\n",
              "      <td>Draw</td>\n",
              "      <td>1</td>\n",
              "    </tr>\n",
              "  </tbody>\n",
              "</table>\n",
              "</div>"
            ],
            "text/plain": [
              "   home_rank  year  away_rank  ...  neutral  status  tournament_type\n",
              "0          1  1993          1  ...        0    Loss                0\n",
              "1          1  1993          1  ...        1    Draw                1\n",
              "\n",
              "[2 rows x 14 columns]"
            ]
          },
          "metadata": {
            "tags": []
          },
          "execution_count": 92
        }
      ]
    },
    {
      "cell_type": "markdown",
      "metadata": {
        "id": "oGRh4edesRUg"
      },
      "source": [
        "###Polynomial Approach"
      ]
    },
    {
      "cell_type": "markdown",
      "metadata": {
        "id": "HGGQE8kkD6CE"
      },
      "source": [
        "##Multicollinearity"
      ]
    },
    {
      "cell_type": "code",
      "metadata": {
        "colab": {
          "base_uri": "https://localhost:8080/",
          "height": 368
        },
        "id": "AjK08MMmD-EQ",
        "outputId": "e64a9d91-c5cd-4e09-b8cc-4c730c7ccd9d"
      },
      "source": [
        "corr = fifa.corr()\n",
        "pd.DataFrame(np.linalg.inv(corr.values),index=corr.index,columns=corr.columns)"
      ],
      "execution_count": 93,
      "outputs": [
        {
          "output_type": "execute_result",
          "data": {
            "text/html": [
              "<div>\n",
              "<style scoped>\n",
              "    .dataframe tbody tr th:only-of-type {\n",
              "        vertical-align: middle;\n",
              "    }\n",
              "\n",
              "    .dataframe tbody tr th {\n",
              "        vertical-align: top;\n",
              "    }\n",
              "\n",
              "    .dataframe thead th {\n",
              "        text-align: right;\n",
              "    }\n",
              "</style>\n",
              "<table border=\"1\" class=\"dataframe\">\n",
              "  <thead>\n",
              "    <tr style=\"text-align: right;\">\n",
              "      <th></th>\n",
              "      <th>home_rank</th>\n",
              "      <th>year</th>\n",
              "      <th>away_rank</th>\n",
              "      <th>total_points</th>\n",
              "      <th>previous_points</th>\n",
              "      <th>rank_change</th>\n",
              "      <th>home_score</th>\n",
              "      <th>away_score</th>\n",
              "      <th>neutral</th>\n",
              "      <th>tournament_type</th>\n",
              "    </tr>\n",
              "  </thead>\n",
              "  <tbody>\n",
              "    <tr>\n",
              "      <th>home_rank</th>\n",
              "      <td>18.267491</td>\n",
              "      <td>-0.149615</td>\n",
              "      <td>-17.669636</td>\n",
              "      <td>0.000745</td>\n",
              "      <td>0.046442</td>\n",
              "      <td>-1.132085</td>\n",
              "      <td>-0.154607</td>\n",
              "      <td>0.081362</td>\n",
              "      <td>-0.005594</td>\n",
              "      <td>-0.012310</td>\n",
              "    </tr>\n",
              "    <tr>\n",
              "      <th>year</th>\n",
              "      <td>-0.149615</td>\n",
              "      <td>2.592126</td>\n",
              "      <td>-1.505702</td>\n",
              "      <td>-1.427431</td>\n",
              "      <td>-1.284770</td>\n",
              "      <td>-0.072632</td>\n",
              "      <td>0.154228</td>\n",
              "      <td>0.065623</td>\n",
              "      <td>-0.052606</td>\n",
              "      <td>0.067396</td>\n",
              "    </tr>\n",
              "    <tr>\n",
              "      <th>away_rank</th>\n",
              "      <td>-17.669636</td>\n",
              "      <td>-1.505702</td>\n",
              "      <td>20.027925</td>\n",
              "      <td>0.769473</td>\n",
              "      <td>2.044070</td>\n",
              "      <td>1.305445</td>\n",
              "      <td>-0.183645</td>\n",
              "      <td>-0.053432</td>\n",
              "      <td>0.001162</td>\n",
              "      <td>-0.126924</td>\n",
              "    </tr>\n",
              "    <tr>\n",
              "      <th>total_points</th>\n",
              "      <td>0.000745</td>\n",
              "      <td>-1.427431</td>\n",
              "      <td>0.769473</td>\n",
              "      <td>2.072050</td>\n",
              "      <td>0.019624</td>\n",
              "      <td>0.001215</td>\n",
              "      <td>-0.062085</td>\n",
              "      <td>-0.030100</td>\n",
              "      <td>0.012404</td>\n",
              "      <td>-0.059730</td>\n",
              "    </tr>\n",
              "    <tr>\n",
              "      <th>previous_points</th>\n",
              "      <td>0.046442</td>\n",
              "      <td>-1.284770</td>\n",
              "      <td>2.044070</td>\n",
              "      <td>0.019624</td>\n",
              "      <td>2.812844</td>\n",
              "      <td>0.230994</td>\n",
              "      <td>-0.075833</td>\n",
              "      <td>-0.074313</td>\n",
              "      <td>0.009617</td>\n",
              "      <td>-0.029413</td>\n",
              "    </tr>\n",
              "    <tr>\n",
              "      <th>rank_change</th>\n",
              "      <td>-1.132085</td>\n",
              "      <td>-0.072632</td>\n",
              "      <td>1.305445</td>\n",
              "      <td>0.001215</td>\n",
              "      <td>0.230994</td>\n",
              "      <td>1.093254</td>\n",
              "      <td>0.009763</td>\n",
              "      <td>-0.034121</td>\n",
              "      <td>0.002107</td>\n",
              "      <td>-0.026659</td>\n",
              "    </tr>\n",
              "    <tr>\n",
              "      <th>home_score</th>\n",
              "      <td>-0.154607</td>\n",
              "      <td>0.154228</td>\n",
              "      <td>-0.183645</td>\n",
              "      <td>-0.062085</td>\n",
              "      <td>-0.075833</td>\n",
              "      <td>0.009763</td>\n",
              "      <td>1.092001</td>\n",
              "      <td>0.129583</td>\n",
              "      <td>0.060902</td>\n",
              "      <td>-0.013942</td>\n",
              "    </tr>\n",
              "    <tr>\n",
              "      <th>away_score</th>\n",
              "      <td>0.081362</td>\n",
              "      <td>0.065623</td>\n",
              "      <td>-0.053432</td>\n",
              "      <td>-0.030100</td>\n",
              "      <td>-0.074313</td>\n",
              "      <td>-0.034121</td>\n",
              "      <td>0.129583</td>\n",
              "      <td>1.047181</td>\n",
              "      <td>-0.106479</td>\n",
              "      <td>-0.040938</td>\n",
              "    </tr>\n",
              "    <tr>\n",
              "      <th>neutral</th>\n",
              "      <td>-0.005594</td>\n",
              "      <td>-0.052606</td>\n",
              "      <td>0.001162</td>\n",
              "      <td>0.012404</td>\n",
              "      <td>0.009617</td>\n",
              "      <td>0.002107</td>\n",
              "      <td>0.060902</td>\n",
              "      <td>-0.106479</td>\n",
              "      <td>1.039064</td>\n",
              "      <td>-0.144868</td>\n",
              "    </tr>\n",
              "    <tr>\n",
              "      <th>tournament_type</th>\n",
              "      <td>-0.012310</td>\n",
              "      <td>0.067396</td>\n",
              "      <td>-0.126924</td>\n",
              "      <td>-0.059730</td>\n",
              "      <td>-0.029413</td>\n",
              "      <td>-0.026659</td>\n",
              "      <td>-0.013942</td>\n",
              "      <td>-0.040938</td>\n",
              "      <td>-0.144868</td>\n",
              "      <td>1.034105</td>\n",
              "    </tr>\n",
              "  </tbody>\n",
              "</table>\n",
              "</div>"
            ],
            "text/plain": [
              "                 home_rank      year  ...   neutral  tournament_type\n",
              "home_rank        18.267491 -0.149615  ... -0.005594        -0.012310\n",
              "year             -0.149615  2.592126  ... -0.052606         0.067396\n",
              "away_rank       -17.669636 -1.505702  ...  0.001162        -0.126924\n",
              "total_points      0.000745 -1.427431  ...  0.012404        -0.059730\n",
              "previous_points   0.046442 -1.284770  ...  0.009617        -0.029413\n",
              "rank_change      -1.132085 -0.072632  ...  0.002107        -0.026659\n",
              "home_score       -0.154607  0.154228  ...  0.060902        -0.013942\n",
              "away_score        0.081362  0.065623  ... -0.106479        -0.040938\n",
              "neutral          -0.005594 -0.052606  ...  1.039064        -0.144868\n",
              "tournament_type  -0.012310  0.067396  ... -0.144868         1.034105\n",
              "\n",
              "[10 rows x 10 columns]"
            ]
          },
          "metadata": {
            "tags": []
          },
          "execution_count": 93
        }
      ]
    },
    {
      "cell_type": "markdown",
      "metadata": {
        "id": "Y6kdTnxYg4HM"
      },
      "source": [
        "There is no alarming multicollinearlity among the variables"
      ]
    },
    {
      "cell_type": "markdown",
      "metadata": {
        "id": "ArMn6o4FhEGD"
      },
      "source": [
        "##Building a polynomial regression model"
      ]
    },
    {
      "cell_type": "markdown",
      "metadata": {
        "id": "SNuX4xHkmBN3"
      },
      "source": [
        "###Predicting home away score"
      ]
    },
    {
      "cell_type": "code",
      "metadata": {
        "id": "LTFSDUgqhCm3"
      },
      "source": [
        "#changing the varaibles to dummy variables\n",
        "from sklearn.preprocessing import LabelEncoder\n",
        "labelencode = LabelEncoder()\n",
        "fifa['home_team'] = labelencode.fit_transform(fifa['home_team'])\n",
        "fifa['away_team'] = labelencode.fit_transform(fifa['away_team'])\n",
        "fifa['tournament_type'] = labelencode.fit_transform(fifa['tournament_type'])"
      ],
      "execution_count": 152,
      "outputs": []
    },
    {
      "cell_type": "code",
      "metadata": {
        "colab": {
          "base_uri": "https://localhost:8080/",
          "height": 128
        },
        "id": "C5VAN-iDNczC",
        "outputId": "ad4153d0-3813-4af4-f4df-9f0a8f452a07"
      },
      "source": [
        "#exporting the clean dataset to avoid repeating the clean process\n",
        "fifa.to_csv('men_fifa.csv')\n",
        "fifa.head(2)"
      ],
      "execution_count": 153,
      "outputs": [
        {
          "output_type": "execute_result",
          "data": {
            "text/html": [
              "<div>\n",
              "<style scoped>\n",
              "    .dataframe tbody tr th:only-of-type {\n",
              "        vertical-align: middle;\n",
              "    }\n",
              "\n",
              "    .dataframe tbody tr th {\n",
              "        vertical-align: top;\n",
              "    }\n",
              "\n",
              "    .dataframe thead th {\n",
              "        text-align: right;\n",
              "    }\n",
              "</style>\n",
              "<table border=\"1\" class=\"dataframe\">\n",
              "  <thead>\n",
              "    <tr style=\"text-align: right;\">\n",
              "      <th></th>\n",
              "      <th>home_rank</th>\n",
              "      <th>year</th>\n",
              "      <th>away_rank</th>\n",
              "      <th>total_points</th>\n",
              "      <th>previous_points</th>\n",
              "      <th>rank_change</th>\n",
              "      <th>confederation</th>\n",
              "      <th>home_team</th>\n",
              "      <th>away_team</th>\n",
              "      <th>home_score</th>\n",
              "      <th>away_score</th>\n",
              "      <th>neutral</th>\n",
              "      <th>status</th>\n",
              "      <th>tournament_type</th>\n",
              "    </tr>\n",
              "  </thead>\n",
              "  <tbody>\n",
              "    <tr>\n",
              "      <th>0</th>\n",
              "      <td>1</td>\n",
              "      <td>1993</td>\n",
              "      <td>1</td>\n",
              "      <td>0.0</td>\n",
              "      <td>57</td>\n",
              "      <td>0</td>\n",
              "      <td>UEFA</td>\n",
              "      <td>184</td>\n",
              "      <td>70</td>\n",
              "      <td>0</td>\n",
              "      <td>1</td>\n",
              "      <td>0</td>\n",
              "      <td>Loss</td>\n",
              "      <td>0</td>\n",
              "    </tr>\n",
              "    <tr>\n",
              "      <th>1</th>\n",
              "      <td>1</td>\n",
              "      <td>1993</td>\n",
              "      <td>1</td>\n",
              "      <td>0.0</td>\n",
              "      <td>57</td>\n",
              "      <td>0</td>\n",
              "      <td>UEFA</td>\n",
              "      <td>30</td>\n",
              "      <td>70</td>\n",
              "      <td>3</td>\n",
              "      <td>3</td>\n",
              "      <td>1</td>\n",
              "      <td>Draw</td>\n",
              "      <td>1</td>\n",
              "    </tr>\n",
              "  </tbody>\n",
              "</table>\n",
              "</div>"
            ],
            "text/plain": [
              "   home_rank  year  away_rank  ...  neutral  status  tournament_type\n",
              "0          1  1993          1  ...        0    Loss                0\n",
              "1          1  1993          1  ...        1    Draw                1\n",
              "\n",
              "[2 rows x 14 columns]"
            ]
          },
          "metadata": {
            "tags": []
          },
          "execution_count": 153
        }
      ]
    },
    {
      "cell_type": "code",
      "metadata": {
        "id": "FdupJ6YpPeUQ"
      },
      "source": [
        "# training the model using three columns away_rank,home_rank and tournament type\n",
        "#predictor variable: home team scores\n",
        "X = fifa.iloc[:,[0,2,13]].values\n",
        "y = fifa.iloc[:,9].values\n"
      ],
      "execution_count": 207,
      "outputs": []
    },
    {
      "cell_type": "code",
      "metadata": {
        "colab": {
          "base_uri": "https://localhost:8080/"
        },
        "id": "JxzAeUxvQmFk",
        "outputId": "156dc52c-3edb-4f4b-f995-a5419a33b5a9"
      },
      "source": [
        "#splitting the two datasets into train and test sets\n",
        "\n",
        "from sklearn.model_selection import train_test_split\n",
        "X_train,X_test,y_train,y_test = train_test_split(X,y,random_state=400,test_size=0.2)\n",
        "#stating a random number represents the number of times the code will run without bringing different results\n",
        "# the test size shows that\n",
        "#20% will be used for testing while 80% for training\n",
        "\n",
        "#scaling the dataset using standard scaler\n",
        "from sklearn.preprocessing import StandardScaler\n",
        "sc = StandardScaler()\n",
        "X_train = sc.fit_transform(X_train)\n",
        "X_test = sc.fit_transform(X_test)\n",
        "\n",
        "from sklearn.preprocessing import PolynomialFeatures\n",
        "from sklearn.linear_model import LinearRegression\n",
        "# Fit polynomial Regression to the dataset\n",
        "features = PolynomialFeatures(degree = 3) \n",
        "X_train= features.fit_transform(X_train)\n",
        "X_test = features.fit_transform(X_test)\n",
        "\n",
        "\n",
        "regression = LinearRegression()\n",
        "regression.fit(X_train,y_train)\n"
      ],
      "execution_count": 208,
      "outputs": [
        {
          "output_type": "execute_result",
          "data": {
            "text/plain": [
              "LinearRegression(copy_X=True, fit_intercept=True, n_jobs=None, normalize=False)"
            ]
          },
          "metadata": {
            "tags": []
          },
          "execution_count": 208
        }
      ]
    },
    {
      "cell_type": "code",
      "metadata": {
        "colab": {
          "base_uri": "https://localhost:8080/"
        },
        "id": "xUEiJinSYm9x",
        "outputId": "bd734bae-381e-457d-e244-40825aee18a8"
      },
      "source": [
        "#predictions \n",
        "y_pred = poly_new.predict(X_test)\n",
        "#computing the RMSE score\n",
        "from sklearn.metrics import mean_squared_error\n",
        "print('RMSE SCORE: ',np.sqrt(mean_squared_error(y_test,y_pred)))\n",
        "print('Mean of y:',y.mean())\n",
        "print('Standard deviation:',y.std())\n",
        "#comparing the mean of y[Status] is lower than RMSE with a +/- (~1.4 standard deviations)"
      ],
      "execution_count": 209,
      "outputs": [
        {
          "output_type": "stream",
          "text": [
            "RMSE SCORE:  1.5854275413362873\n",
            "Mean of y: 1.5280481741636003\n",
            "Standard deviation: 1.478361288146029\n"
          ],
          "name": "stdout"
        }
      ]
    },
    {
      "cell_type": "code",
      "metadata": {
        "colab": {
          "base_uri": "https://localhost:8080/",
          "height": 303
        },
        "id": "83sRJALVgb6W",
        "outputId": "80fb5f3f-16cc-4ad7-e308-8357302299b2"
      },
      "source": [
        "#plotting a residual plot\n",
        "residuals = np.subtract(y_pred,y_test)\n",
        "plt.scatter(y_pred,residuals,color='blue')\n",
        "plt.ylabel('residuals')\n",
        "plt.xlabel('fitted values')\n",
        "plt.axhline(y = residuals.mean(),color='red',linewidth=2)"
      ],
      "execution_count": 210,
      "outputs": [
        {
          "output_type": "execute_result",
          "data": {
            "text/plain": [
              "<matplotlib.lines.Line2D at 0x7f6c3ca0a590>"
            ]
          },
          "metadata": {
            "tags": []
          },
          "execution_count": 210
        },
        {
          "output_type": "display_data",
          "data": {
            "image/png": "[encoded data removed]",
            "text/plain": [
              "<Figure size 432x288 with 1 Axes>"
            ]
          },
          "metadata": {
            "tags": []
          }
        }
      ]
    },
    {
      "cell_type": "markdown",
      "metadata": {
        "id": "p59Ch3dAhRVN"
      },
      "source": [
        "Some of the values are around 0, and residual mean is close to 0"
      ]
    },
    {
      "cell_type": "markdown",
      "metadata": {
        "id": "_piuSNiGhg6p"
      },
      "source": [
        "###Heteroscedasticity using the bartlett's test"
      ]
    },
    {
      "cell_type": "code",
      "metadata": {
        "colab": {
          "base_uri": "https://localhost:8080/"
        },
        "id": "z4CM1q2dhpGP",
        "outputId": "e198fba6-b321-4d2c-9d2b-1481ecf97dc6"
      },
      "source": [
        "import scipy as sp\n",
        "\n",
        "test_result, p_value = sp.stats.bartlett(y_pred, residuals)\n",
        "\n",
        "# To interpret the results we must also compute a critical value of the chi squared distribution\n",
        "degree_of_freedom = len(y_pred)-1\n",
        "probability = 1 - p_value\n",
        "value = sp.stats.chi2.ppf(probability, degree_of_freedom)\n",
        "print(value)\n",
        "\n",
        "if test_result > p_value:\n",
        "  print('The variance is unequal')\n",
        "else:\n",
        "    print('The variance is homogenous')"
      ],
      "execution_count": 211,
      "outputs": [
        {
          "output_type": "stream",
          "text": [
            "inf\n",
            "The variance is unequal\n"
          ],
          "name": "stdout"
        }
      ]
    },
    {
      "cell_type": "markdown",
      "metadata": {
        "id": "cu6lrvOmkWDe"
      },
      "source": [
        "###Predicting using away_score"
      ]
    },
    {
      "cell_type": "code",
      "metadata": {
        "id": "YullkQtdkp52"
      },
      "source": [
        "# training the model using three columns away_rank,home_rank and tournament type\n",
        "#predictor variable: away team scores\n",
        "X = fifa.iloc[:,[0,2,13]].values\n",
        "y = fifa.iloc[:,10].values"
      ],
      "execution_count": 256,
      "outputs": []
    },
    {
      "cell_type": "code",
      "metadata": {
        "colab": {
          "base_uri": "https://localhost:8080/"
        },
        "id": "yyiGfWD7k6Be",
        "outputId": "b2789d13-639f-460d-dfa6-c0e192354017"
      },
      "source": [
        "#splitting the two datasets into train and test sets\n",
        "\n",
        "from sklearn.model_selection import train_test_split\n",
        "X_train,X_test,y_train,y_test = train_test_split(X,y,random_state=400,test_size=0.2)\n",
        "#stating a random number represents the number of times the code will run without bringing different results\n",
        "# the test size shows that\n",
        "#20% will be used for testing while 80% for training\n",
        "\n",
        "from sklearn.preprocessing import PolynomialFeatures\n",
        "from sklearn.linear_model import LinearRegression\n",
        "# Fit polynomial Regression to the dataset\n",
        "features = PolynomialFeatures(degree = 3) \n",
        "X_train= features.fit_transform(X_train)\n",
        "X_test = features.fit_transform(X_test)\n",
        "\n",
        "\n",
        "regression = LinearRegression()\n",
        "regression.fit(X_train,y_train)\n"
      ],
      "execution_count": 257,
      "outputs": [
        {
          "output_type": "execute_result",
          "data": {
            "text/plain": [
              "LinearRegression(copy_X=True, fit_intercept=True, n_jobs=None, normalize=False)"
            ]
          },
          "metadata": {
            "tags": []
          },
          "execution_count": 257
        }
      ]
    },
    {
      "cell_type": "code",
      "metadata": {
        "colab": {
          "base_uri": "https://localhost:8080/"
        },
        "id": "gkxToL6flJfA",
        "outputId": "853cf903-339e-4a67-ad4d-3f4fe7fc18c3"
      },
      "source": [
        "#predictions \n",
        "y_pred = poly_new.predict(X_test)\n",
        "#computing the RMSE score\n",
        "from sklearn.metrics import mean_squared_error\n",
        "print('RMSE SCORE: ',np.sqrt(mean_squared_error(y_test,y_pred)))\n",
        "print('Mean of y:',y.mean())\n",
        "print('Standard deviation:',y.std())"
      ],
      "execution_count": 220,
      "outputs": [
        {
          "output_type": "stream",
          "text": [
            "RMSE SCORE:  1.4392725018972234\n",
            "Mean of y: 1.0736935822876037\n",
            "Standard deviation: 1.2667676467125037\n"
          ],
          "name": "stdout"
        }
      ]
    },
    {
      "cell_type": "markdown",
      "metadata": {
        "id": "5f-jbw_vlQ_3"
      },
      "source": [
        "RMSE score is higher than mean of y."
      ]
    },
    {
      "cell_type": "code",
      "metadata": {
        "colab": {
          "base_uri": "https://localhost:8080/",
          "height": 307
        },
        "id": "L7OVuHvUlQPu",
        "outputId": "bf77cde9-79f7-463b-8fac-17f687f3fd2f"
      },
      "source": [
        "#plotting a residual plot\n",
        "residuals = np.subtract(y_pred,y_test)\n",
        "plt.scatter(y_pred,residuals,color='blue')\n",
        "plt.ylabel('residuals')\n",
        "plt.xlabel('fitted values')\n",
        "plt.axhline(y = residuals.mean(),color='red',linewidth=2)"
      ],
      "execution_count": 221,
      "outputs": [
        {
          "output_type": "execute_result",
          "data": {
            "text/plain": [
              "<matplotlib.lines.Line2D at 0x7f6c399b0610>"
            ]
          },
          "metadata": {
            "tags": []
          },
          "execution_count": 221
        },
        {
          "output_type": "display_data",
          "data": {
            "image/png": "[encoded data removed]",
            "text/plain": [
              "<Figure size 432x288 with 1 Axes>"
            ]
          },
          "metadata": {
            "tags": []
          }
        }
      ]
    },
    {
      "cell_type": "code",
      "metadata": {
        "colab": {
          "base_uri": "https://localhost:8080/"
        },
        "id": "21OOtsVJlbeB",
        "outputId": "441134c5-7486-40d8-afa1-373330063d31"
      },
      "source": [
        "import scipy as sp\n",
        "\n",
        "test_result, p_value = sp.stats.bartlett(y_pred, residuals)\n",
        "\n",
        "# To interpret the results we must also compute a critical value of the chi squared distribution\n",
        "degree_of_freedom = len(y_pred)-1\n",
        "probability = 1 - p_value\n",
        "value = sp.stats.chi2.ppf(probability, degree_of_freedom)\n",
        "print(value)\n",
        "\n",
        "if test_result > p_value:\n",
        "  print('The variance is unequal')\n",
        "else:\n",
        "    print('The variance is homogenous')"
      ],
      "execution_count": 223,
      "outputs": [
        {
          "output_type": "stream",
          "text": [
            "inf\n",
            "The variance is unequal\n"
          ],
          "name": "stdout"
        }
      ]
    },
    {
      "cell_type": "markdown",
      "metadata": {
        "id": "_3RM3Px1mTp-"
      },
      "source": [
        "###Logistic Regression"
      ]
    },
    {
      "cell_type": "code",
      "metadata": {
        "colab": {
          "base_uri": "https://localhost:8080/",
          "height": 68
        },
        "id": "8yWexzQ_mer-",
        "outputId": "095ef3b2-ae01-4d9c-cb40-9986ac0ae46d"
      },
      "source": [
        "fifa.head(0)"
      ],
      "execution_count": 225,
      "outputs": [
        {
          "output_type": "execute_result",
          "data": {
            "text/html": [
              "<div>\n",
              "<style scoped>\n",
              "    .dataframe tbody tr th:only-of-type {\n",
              "        vertical-align: middle;\n",
              "    }\n",
              "\n",
              "    .dataframe tbody tr th {\n",
              "        vertical-align: top;\n",
              "    }\n",
              "\n",
              "    .dataframe thead th {\n",
              "        text-align: right;\n",
              "    }\n",
              "</style>\n",
              "<table border=\"1\" class=\"dataframe\">\n",
              "  <thead>\n",
              "    <tr style=\"text-align: right;\">\n",
              "      <th></th>\n",
              "      <th>home_rank</th>\n",
              "      <th>year</th>\n",
              "      <th>away_rank</th>\n",
              "      <th>total_points</th>\n",
              "      <th>previous_points</th>\n",
              "      <th>rank_change</th>\n",
              "      <th>confederation</th>\n",
              "      <th>home_team</th>\n",
              "      <th>away_team</th>\n",
              "      <th>home_score</th>\n",
              "      <th>away_score</th>\n",
              "      <th>neutral</th>\n",
              "      <th>status</th>\n",
              "      <th>tournament_type</th>\n",
              "    </tr>\n",
              "  </thead>\n",
              "  <tbody>\n",
              "  </tbody>\n",
              "</table>\n",
              "</div>"
            ],
            "text/plain": [
              "Empty DataFrame\n",
              "Columns: [home_rank, year, away_rank, total_points, previous_points, rank_change, confederation, home_team, away_team, home_score, away_score, neutral, status, tournament_type]\n",
              "Index: []"
            ]
          },
          "metadata": {
            "tags": []
          },
          "execution_count": 225
        }
      ]
    },
    {
      "cell_type": "code",
      "metadata": {
        "id": "jXGC9-hXl6qH"
      },
      "source": [
        "#building a logistic regression model\n",
        "X = fifa.iloc[:,[0,1,2,7,8,9,10,13]].values\n",
        "y =fifa.iloc[:,12].values"
      ],
      "execution_count": 237,
      "outputs": []
    },
    {
      "cell_type": "code",
      "metadata": {
        "colab": {
          "base_uri": "https://localhost:8080/"
        },
        "id": "gFWsC_2fm7yR",
        "outputId": "1a73307f-80af-453c-eafb-c22496470dfd"
      },
      "source": [
        "#confirming if i have highlighted the right columns\n",
        "print(X.head())"
      ],
      "execution_count": 234,
      "outputs": [
        {
          "output_type": "stream",
          "text": [
            "   home_rank  year  away_rank  ...  home_score  away_score  tournament_type\n",
            "0          1  1993          1  ...           0           1                0\n",
            "1          1  1993          1  ...           3           3                1\n",
            "2          1  1993          1  ...           3           4                1\n",
            "3          1  1993          1  ...           1           2                1\n",
            "4          1  1993          1  ...           1           1                0\n",
            "\n",
            "[5 rows x 8 columns]\n"
          ],
          "name": "stdout"
        }
      ]
    },
    {
      "cell_type": "code",
      "metadata": {
        "colab": {
          "base_uri": "https://localhost:8080/"
        },
        "id": "L_X3gEwjnRIW",
        "outputId": "87e6f1f4-0b02-4cee-f7d3-425cc0c16da7"
      },
      "source": [
        "#confirming i have the right columns\n",
        "print(y.head())"
      ],
      "execution_count": 238,
      "outputs": [
        {
          "output_type": "stream",
          "text": [
            "0    Loss\n",
            "1    Draw\n",
            "2    Loss\n",
            "3    Loss\n",
            "4    Draw\n",
            "Name: status, dtype: object\n"
          ],
          "name": "stdout"
        }
      ]
    },
    {
      "cell_type": "code",
      "metadata": {
        "colab": {
          "base_uri": "https://localhost:8080/"
        },
        "id": "stB2ZnI2nhh-",
        "outputId": "e4ea83c0-4fb7-458c-9836-253ef2802e73"
      },
      "source": [
        "#splitting the two datasets\n",
        "X_train,X_test,y_train,y_test = train_test_split(X,y,random_state=45,test_size=0.3)\n",
        "\n",
        "from sklearn.linear_model import LogisticRegression\n",
        "regressor = LogisticRegression()\n",
        "regressor.fit(X_train,y_train)"
      ],
      "execution_count": 240,
      "outputs": [
        {
          "output_type": "stream",
          "text": [
            "/usr/local/lib/python3.7/dist-packages/sklearn/linear_model/_logistic.py:940: ConvergenceWarning: lbfgs failed to converge (status=1):\n",
            "STOP: TOTAL NO. of ITERATIONS REACHED LIMIT.\n",
            "\n",
            "Increase the number of iterations (max_iter) or scale the data as shown in:\n",
            "    https://scikit-learn.org/stable/modules/preprocessing.html\n",
            "Please also refer to the documentation for alternative solver options:\n",
            "    https://scikit-learn.org/stable/modules/linear_model.html#logistic-regression\n",
            "  extra_warning_msg=_LOGISTIC_SOLVER_CONVERGENCE_MSG)\n"
          ],
          "name": "stderr"
        },
        {
          "output_type": "execute_result",
          "data": {
            "text/plain": [
              "LogisticRegression(C=1.0, class_weight=None, dual=False, fit_intercept=True,\n",
              "                   intercept_scaling=1, l1_ratio=None, max_iter=100,\n",
              "                   multi_class='auto', n_jobs=None, penalty='l2',\n",
              "                   random_state=None, solver='lbfgs', tol=0.0001, verbose=0,\n",
              "                   warm_start=False)"
            ]
          },
          "metadata": {
            "tags": []
          },
          "execution_count": 240
        }
      ]
    },
    {
      "cell_type": "code",
      "metadata": {
        "colab": {
          "base_uri": "https://localhost:8080/"
        },
        "id": "1ipoi1gaoFkx",
        "outputId": "c1663d94-36c8-47d1-c3fc-46cee50c2e26"
      },
      "source": [
        "y_pred = regressor.predict(X_test)\n",
        "from sklearn.metrics import accuracy_score\n",
        "print('The accuracy of the model is:',accuracy_score(y_test,y_pred))"
      ],
      "execution_count": 242,
      "outputs": [
        {
          "output_type": "stream",
          "text": [
            "The accuracy of the model is: 0.8823773458228266\n"
          ],
          "name": "stdout"
        }
      ]
    },
    {
      "cell_type": "markdown",
      "metadata": {
        "id": "DUgWjCe3uLxB"
      },
      "source": [
        "Based on the results our model has predicted that 88 of status(Win,loss,or draw) can be explained by the home rank, away rank, year, home team score, away team score, and tournament type(World cup, Friendly or other)"
      ]
    },
    {
      "cell_type": "markdown",
      "metadata": {
        "id": "Ce22bUgHvdAO"
      },
      "source": [
        "###Cross Validating the model using KFolds"
      ]
    },
    {
      "cell_type": "code",
      "metadata": {
        "colab": {
          "base_uri": "https://localhost:8080/"
        },
        "id": "ibzyuk_Ros5H",
        "outputId": "ecd1ad36-6664-4c35-f496-f6dfbe7f5039"
      },
      "source": [
        "#using the Home away scores\n",
        "X = fifa.iloc[:,[0,2,13]].values\n",
        "y = fifa.iloc[:,10].values\n",
        "\n",
        "from sklearn.model_selection import train_test_split\n",
        "X_train,X_test,y_train,y_test = train_test_split(X,y,random_state=400,test_size=0.2)\n",
        "\n",
        "from sklearn.model_selection import KFold\n",
        "#using folds as 10\n",
        "folds = KFold(n_splits=10)\n",
        "print('using:', str(folds.get_n_splits(X))+ 'folds')\n",
        "\n",
        "creating an empty array\n",
        "RMSE = []\n",
        "count = 1\n",
        "for train_index,test_index in folds.split(X):\n",
        "  print('\\n Training model ' + str(count))\n",
        "  \n",
        "  X_train,X_test = X[train_index],X[test_index]\n",
        "  y_train,y_test = y[train_index],y[test_index]\n",
        "from sklearn import metrics\n",
        "rmse = np.sqrt(metrics.mean_squared_error(y_test,y_pred))\n",
        "RMSE.append(rmse)\n",
        "print('Model'+ str(count)+ 'Root Mean Squared Errors',rmse)"
      ],
      "execution_count": 275,
      "outputs": [
        {
          "output_type": "stream",
          "text": [
            "using: 10folds\n"
          ],
          "name": "stdout"
        }
      ]
    },
    {
      "cell_type": "markdown",
      "metadata": {
        "id": "lQ2G4ZPDVOXE"
      },
      "source": [
        "## 8. Challenging the solution: Logistic Regression "
      ]
    },
    {
      "cell_type": "code",
      "metadata": {
        "id": "j3x3SXZ4XT_L",
        "colab": {
          "base_uri": "https://localhost:8080/"
        },
        "outputId": "092d628c-bbf2-446a-ab3c-ca61bf2977f2"
      },
      "source": [
        "# Reviewing the Solution using Line\n",
        "#\n",
        "X = fifa[['home_rank','away_rank','tournament_type']].values\n",
        "y = fifa['status'].values\n",
        "#splitting the two datasets\n",
        "X_train,X_test,y_train,y_test = train_test_split(X,y,random_state=45,test_size=0.3)\n",
        "\n",
        "from sklearn.linear_model import LogisticRegression\n",
        "regressor = LogisticRegression()\n",
        "regressor.fit(X_train,y_train)"
      ],
      "execution_count": 271,
      "outputs": [
        {
          "output_type": "execute_result",
          "data": {
            "text/plain": [
              "LogisticRegression(C=1.0, class_weight=None, dual=False, fit_intercept=True,\n",
              "                   intercept_scaling=1, l1_ratio=None, max_iter=100,\n",
              "                   multi_class='auto', n_jobs=None, penalty='l2',\n",
              "                   random_state=None, solver='lbfgs', tol=0.0001, verbose=0,\n",
              "                   warm_start=False)"
            ]
          },
          "metadata": {
            "tags": []
          },
          "execution_count": 271
        }
      ]
    },
    {
      "cell_type": "code",
      "metadata": {
        "colab": {
          "base_uri": "https://localhost:8080/"
        },
        "id": "ffk6BBUy51cw",
        "outputId": "9ce53ccb-5d23-461c-d924-aa3381bb2cf8"
      },
      "source": [
        "#predicting the accuracy\n",
        "y_pred = regressor.predict(X_test)\n",
        "from sklearn.metrics import accuracy_score\n",
        "print('The accuracy of the model is:',accuracy_score(y_test,y_pred))"
      ],
      "execution_count": 272,
      "outputs": [
        {
          "output_type": "stream",
          "text": [
            "The accuracy of the model is: 0.4896598103824582\n"
          ],
          "name": "stdout"
        }
      ]
    },
    {
      "cell_type": "markdown",
      "metadata": {
        "id": "MGLVfoYX733M"
      },
      "source": [
        "> Challenging the solution using home rank, away rank and tournament type to predict the status and the accuracy score was 48.97%, lower than what was gotten earlier"
      ]
    },
    {
      "cell_type": "markdown",
      "metadata": {
        "id": "xrmHVMVsVS--"
      },
      "source": [
        "## 9. Follow up questions"
      ]
    },
    {
      "cell_type": "markdown",
      "metadata": {
        "id": "HPQviDmNtta8"
      },
      "source": [
        "### a). Did we have the right data?"
      ]
    },
    {
      "cell_type": "markdown",
      "metadata": {
        "id": "RS8bsah02z6W"
      },
      "source": [
        "The results and the ranking dataset had columns that were inconsistent. In particular, if the ranking dataset had records beyond 1993 the model could have attained a higher prediction."
      ]
    },
    {
      "cell_type": "markdown",
      "metadata": {
        "id": "qjFHK1CKty7o"
      },
      "source": [
        "### b). Do we need other data to answer our question?"
      ]
    },
    {
      "cell_type": "markdown",
      "metadata": {
        "id": "lCF_Okt83c79"
      },
      "source": [
        "The data answers the question,the features related with the objectives of the data analysis. Adding other factors like the weather patterns/ seasons of the match or the buzz in social media on the team's likelihood to win or lose could be features to assess in our dataset."
      ]
    },
    {
      "cell_type": "markdown",
      "metadata": {
        "id": "HSsicSdvt4Zs"
      },
      "source": [
        "### c). Did we have the right question?"
      ]
    },
    {
      "cell_type": "markdown",
      "metadata": {
        "id": "Mrc4X3Y13peN"
      },
      "source": [
        " Making a prediction of home teams scores and away scores explains what factors could come to play in achieving those scores. The win, loss and draw status  depend on the year, home team rank, away team rank and their scores. "
      ]
    }
  ]
}